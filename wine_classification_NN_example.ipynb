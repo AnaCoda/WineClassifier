{
  "nbformat": 4,
  "nbformat_minor": 0,
  "metadata": {
    "accelerator": "GPU",
    "colab": {
      "name": "wine_classification_NN_example.ipynb",
      "provenance": [],
      "collapsed_sections": [],
      "toc_visible": true
    },
    "kernelspec": {
      "display_name": "Python 3",
      "language": "python",
      "name": "python3"
    },
    "language_info": {
      "codemirror_mode": {
        "name": "ipython",
        "version": 3
      },
      "file_extension": ".py",
      "mimetype": "text/x-python",
      "name": "python",
      "nbconvert_exporter": "python",
      "pygments_lexer": "ipython3",
      "version": "3.6.9"
    }
  },
  "cells": [
    {
      "cell_type": "markdown",
      "metadata": {
        "colab_type": "text",
        "id": "MemFGW7ksHC4"
      },
      "source": [
        "# Wine Classification"
      ]
    },
    {
      "cell_type": "code",
      "metadata": {
        "colab_type": "code",
        "id": "PvVbtuzBsHDO",
        "colab": {
          "base_uri": "https://localhost:8080/",
          "height": 35
        },
        "outputId": "76cf8ad7-60bc-4357-b1b0-88545b96eb9a"
      },
      "source": [
        "import numpy as np\n",
        "import pandas as pd\n",
        "import pickle\n",
        "import tensorflow as tf\n",
        "from wordcloud import WordCloud\n",
        "import matplotlib.pyplot as plt\n",
        "from tensorflow.keras.preprocessing import text, sequence\n",
        "from tensorflow.keras.models import Sequential\n",
        "from tensorflow.keras.layers import Dense, Dropout, Activation\n",
        "from tensorflow.keras.layers import Embedding\n",
        "from tensorflow.keras.layers import Conv1D, GlobalMaxPooling1D, MaxPooling1D\n",
        "from sklearn.model_selection import train_test_split\n",
        "from sklearn.metrics import accuracy_score, f1_score, confusion_matrix\n",
        "import seaborn as sns\n",
        "plt.style.use('fivethirtyeight')\n",
        "print(tf.__version__)"
      ],
      "execution_count": 471,
      "outputs": [
        {
          "output_type": "stream",
          "text": [
            "2.4.0-dev20200723\n"
          ],
          "name": "stdout"
        }
      ]
    },
    {
      "cell_type": "code",
      "metadata": {
        "id": "XmWRNBzKeR4y",
        "colab_type": "code",
        "colab": {
          "base_uri": "https://localhost:8080/",
          "height": 35
        },
        "outputId": "f1f8d1d4-a11d-45df-fc08-dff3ac0e73c6"
      },
      "source": [
        "# Mount your Google Drive\n",
        "from google.colab import drive\n",
        "drive.mount('/content/gdrive/', force_remount=True)"
      ],
      "execution_count": 519,
      "outputs": [
        {
          "output_type": "stream",
          "text": [
            "Mounted at /content/gdrive/\n"
          ],
          "name": "stdout"
        }
      ]
    },
    {
      "cell_type": "code",
      "metadata": {
        "id": "mxVkoOjefKnU",
        "colab_type": "code",
        "colab": {}
      },
      "source": [
        "# Change to top directory of your Drive\n",
        "import os\n",
        "os.chdir('/content/gdrive/Shared drives/AI4ALL SFU NLP GROUP 3/WINE')"
      ],
      "execution_count": 520,
      "outputs": []
    },
    {
      "cell_type": "code",
      "metadata": {
        "colab_type": "code",
        "id": "UkOBp_TDsHDj",
        "colab": {}
      },
      "source": [
        "# Load data\n",
        "df = pd.read_csv('winemag-data-130k-v2.csv')"
      ],
      "execution_count": 546,
      "outputs": []
    },
    {
      "cell_type": "code",
      "metadata": {
        "colab_type": "code",
        "id": "KLqhFuE2sHDp",
        "colab": {
          "base_uri": "https://localhost:8080/",
          "height": 985
        },
        "outputId": "82fecb01-3109-452f-93eb-295e11594e1f"
      },
      "source": [
        "df.head(10)"
      ],
      "execution_count": 547,
      "outputs": [
        {
          "output_type": "execute_result",
          "data": {
            "text/html": [
              "<div>\n",
              "<style scoped>\n",
              "    .dataframe tbody tr th:only-of-type {\n",
              "        vertical-align: middle;\n",
              "    }\n",
              "\n",
              "    .dataframe tbody tr th {\n",
              "        vertical-align: top;\n",
              "    }\n",
              "\n",
              "    .dataframe thead th {\n",
              "        text-align: right;\n",
              "    }\n",
              "</style>\n",
              "<table border=\"1\" class=\"dataframe\">\n",
              "  <thead>\n",
              "    <tr style=\"text-align: right;\">\n",
              "      <th></th>\n",
              "      <th>Unnamed: 0</th>\n",
              "      <th>country</th>\n",
              "      <th>description</th>\n",
              "      <th>designation</th>\n",
              "      <th>points</th>\n",
              "      <th>price</th>\n",
              "      <th>province</th>\n",
              "      <th>region_1</th>\n",
              "      <th>region_2</th>\n",
              "      <th>taster_name</th>\n",
              "      <th>taster_twitter_handle</th>\n",
              "      <th>title</th>\n",
              "      <th>variety</th>\n",
              "      <th>winery</th>\n",
              "    </tr>\n",
              "  </thead>\n",
              "  <tbody>\n",
              "    <tr>\n",
              "      <th>0</th>\n",
              "      <td>0</td>\n",
              "      <td>Italy</td>\n",
              "      <td>Aromas include tropical fruit, broom, brimston...</td>\n",
              "      <td>Vulkà Bianco</td>\n",
              "      <td>87</td>\n",
              "      <td>NaN</td>\n",
              "      <td>Sicily &amp; Sardinia</td>\n",
              "      <td>Etna</td>\n",
              "      <td>NaN</td>\n",
              "      <td>Kerin O’Keefe</td>\n",
              "      <td>@kerinokeefe</td>\n",
              "      <td>Nicosia 2013 Vulkà Bianco  (Etna)</td>\n",
              "      <td>White Blend</td>\n",
              "      <td>Nicosia</td>\n",
              "    </tr>\n",
              "    <tr>\n",
              "      <th>1</th>\n",
              "      <td>1</td>\n",
              "      <td>Portugal</td>\n",
              "      <td>This is ripe and fruity, a wine that is smooth...</td>\n",
              "      <td>Avidagos</td>\n",
              "      <td>87</td>\n",
              "      <td>15.0</td>\n",
              "      <td>Douro</td>\n",
              "      <td>NaN</td>\n",
              "      <td>NaN</td>\n",
              "      <td>Roger Voss</td>\n",
              "      <td>@vossroger</td>\n",
              "      <td>Quinta dos Avidagos 2011 Avidagos Red (Douro)</td>\n",
              "      <td>Portuguese Red</td>\n",
              "      <td>Quinta dos Avidagos</td>\n",
              "    </tr>\n",
              "    <tr>\n",
              "      <th>2</th>\n",
              "      <td>2</td>\n",
              "      <td>US</td>\n",
              "      <td>Tart and snappy, the flavors of lime flesh and...</td>\n",
              "      <td>NaN</td>\n",
              "      <td>87</td>\n",
              "      <td>14.0</td>\n",
              "      <td>Oregon</td>\n",
              "      <td>Willamette Valley</td>\n",
              "      <td>Willamette Valley</td>\n",
              "      <td>Paul Gregutt</td>\n",
              "      <td>@paulgwine</td>\n",
              "      <td>Rainstorm 2013 Pinot Gris (Willamette Valley)</td>\n",
              "      <td>Pinot Gris</td>\n",
              "      <td>Rainstorm</td>\n",
              "    </tr>\n",
              "    <tr>\n",
              "      <th>3</th>\n",
              "      <td>3</td>\n",
              "      <td>US</td>\n",
              "      <td>Pineapple rind, lemon pith and orange blossom ...</td>\n",
              "      <td>Reserve Late Harvest</td>\n",
              "      <td>87</td>\n",
              "      <td>13.0</td>\n",
              "      <td>Michigan</td>\n",
              "      <td>Lake Michigan Shore</td>\n",
              "      <td>NaN</td>\n",
              "      <td>Alexander Peartree</td>\n",
              "      <td>NaN</td>\n",
              "      <td>St. Julian 2013 Reserve Late Harvest Riesling ...</td>\n",
              "      <td>Riesling</td>\n",
              "      <td>St. Julian</td>\n",
              "    </tr>\n",
              "    <tr>\n",
              "      <th>4</th>\n",
              "      <td>4</td>\n",
              "      <td>US</td>\n",
              "      <td>Much like the regular bottling from 2012, this...</td>\n",
              "      <td>Vintner's Reserve Wild Child Block</td>\n",
              "      <td>87</td>\n",
              "      <td>65.0</td>\n",
              "      <td>Oregon</td>\n",
              "      <td>Willamette Valley</td>\n",
              "      <td>Willamette Valley</td>\n",
              "      <td>Paul Gregutt</td>\n",
              "      <td>@paulgwine</td>\n",
              "      <td>Sweet Cheeks 2012 Vintner's Reserve Wild Child...</td>\n",
              "      <td>Pinot Noir</td>\n",
              "      <td>Sweet Cheeks</td>\n",
              "    </tr>\n",
              "    <tr>\n",
              "      <th>5</th>\n",
              "      <td>5</td>\n",
              "      <td>Spain</td>\n",
              "      <td>Blackberry and raspberry aromas show a typical...</td>\n",
              "      <td>Ars In Vitro</td>\n",
              "      <td>87</td>\n",
              "      <td>15.0</td>\n",
              "      <td>Northern Spain</td>\n",
              "      <td>Navarra</td>\n",
              "      <td>NaN</td>\n",
              "      <td>Michael Schachner</td>\n",
              "      <td>@wineschach</td>\n",
              "      <td>Tandem 2011 Ars In Vitro Tempranillo-Merlot (N...</td>\n",
              "      <td>Tempranillo-Merlot</td>\n",
              "      <td>Tandem</td>\n",
              "    </tr>\n",
              "    <tr>\n",
              "      <th>6</th>\n",
              "      <td>6</td>\n",
              "      <td>Italy</td>\n",
              "      <td>Here's a bright, informal red that opens with ...</td>\n",
              "      <td>Belsito</td>\n",
              "      <td>87</td>\n",
              "      <td>16.0</td>\n",
              "      <td>Sicily &amp; Sardinia</td>\n",
              "      <td>Vittoria</td>\n",
              "      <td>NaN</td>\n",
              "      <td>Kerin O’Keefe</td>\n",
              "      <td>@kerinokeefe</td>\n",
              "      <td>Terre di Giurfo 2013 Belsito Frappato (Vittoria)</td>\n",
              "      <td>Frappato</td>\n",
              "      <td>Terre di Giurfo</td>\n",
              "    </tr>\n",
              "    <tr>\n",
              "      <th>7</th>\n",
              "      <td>7</td>\n",
              "      <td>France</td>\n",
              "      <td>This dry and restrained wine offers spice in p...</td>\n",
              "      <td>NaN</td>\n",
              "      <td>87</td>\n",
              "      <td>24.0</td>\n",
              "      <td>Alsace</td>\n",
              "      <td>Alsace</td>\n",
              "      <td>NaN</td>\n",
              "      <td>Roger Voss</td>\n",
              "      <td>@vossroger</td>\n",
              "      <td>Trimbach 2012 Gewurztraminer (Alsace)</td>\n",
              "      <td>Gewürztraminer</td>\n",
              "      <td>Trimbach</td>\n",
              "    </tr>\n",
              "    <tr>\n",
              "      <th>8</th>\n",
              "      <td>8</td>\n",
              "      <td>Germany</td>\n",
              "      <td>Savory dried thyme notes accent sunnier flavor...</td>\n",
              "      <td>Shine</td>\n",
              "      <td>87</td>\n",
              "      <td>12.0</td>\n",
              "      <td>Rheinhessen</td>\n",
              "      <td>NaN</td>\n",
              "      <td>NaN</td>\n",
              "      <td>Anna Lee C. Iijima</td>\n",
              "      <td>NaN</td>\n",
              "      <td>Heinz Eifel 2013 Shine Gewürztraminer (Rheinhe...</td>\n",
              "      <td>Gewürztraminer</td>\n",
              "      <td>Heinz Eifel</td>\n",
              "    </tr>\n",
              "    <tr>\n",
              "      <th>9</th>\n",
              "      <td>9</td>\n",
              "      <td>France</td>\n",
              "      <td>This has great depth of flavor with its fresh ...</td>\n",
              "      <td>Les Natures</td>\n",
              "      <td>87</td>\n",
              "      <td>27.0</td>\n",
              "      <td>Alsace</td>\n",
              "      <td>Alsace</td>\n",
              "      <td>NaN</td>\n",
              "      <td>Roger Voss</td>\n",
              "      <td>@vossroger</td>\n",
              "      <td>Jean-Baptiste Adam 2012 Les Natures Pinot Gris...</td>\n",
              "      <td>Pinot Gris</td>\n",
              "      <td>Jean-Baptiste Adam</td>\n",
              "    </tr>\n",
              "  </tbody>\n",
              "</table>\n",
              "</div>"
            ],
            "text/plain": [
              "   Unnamed: 0   country  ...             variety               winery\n",
              "0           0     Italy  ...         White Blend              Nicosia\n",
              "1           1  Portugal  ...      Portuguese Red  Quinta dos Avidagos\n",
              "2           2        US  ...          Pinot Gris            Rainstorm\n",
              "3           3        US  ...            Riesling           St. Julian\n",
              "4           4        US  ...          Pinot Noir         Sweet Cheeks\n",
              "5           5     Spain  ...  Tempranillo-Merlot               Tandem\n",
              "6           6     Italy  ...            Frappato      Terre di Giurfo\n",
              "7           7    France  ...      Gewürztraminer             Trimbach\n",
              "8           8   Germany  ...      Gewürztraminer          Heinz Eifel\n",
              "9           9    France  ...          Pinot Gris   Jean-Baptiste Adam\n",
              "\n",
              "[10 rows x 14 columns]"
            ]
          },
          "metadata": {
            "tags": []
          },
          "execution_count": 547
        }
      ]
    },
    {
      "cell_type": "code",
      "metadata": {
        "id": "0wFkPe49b0mv",
        "colab_type": "code",
        "colab": {}
      },
      "source": [
        "# Get only the columns we want\n",
        "wine_df = df[['description', 'variety']].copy()"
      ],
      "execution_count": 592,
      "outputs": []
    },
    {
      "cell_type": "code",
      "metadata": {
        "id": "zsgAm-bEb0mz",
        "colab_type": "code",
        "colab": {
          "base_uri": "https://localhost:8080/",
          "height": 399
        },
        "outputId": "87b5c99a-3e89-48e0-a871-d8346c578ae1"
      },
      "source": [
        "wine_df"
      ],
      "execution_count": 595,
      "outputs": [
        {
          "output_type": "execute_result",
          "data": {
            "text/html": [
              "<div>\n",
              "<style scoped>\n",
              "    .dataframe tbody tr th:only-of-type {\n",
              "        vertical-align: middle;\n",
              "    }\n",
              "\n",
              "    .dataframe tbody tr th {\n",
              "        vertical-align: top;\n",
              "    }\n",
              "\n",
              "    .dataframe thead th {\n",
              "        text-align: right;\n",
              "    }\n",
              "</style>\n",
              "<table border=\"1\" class=\"dataframe\">\n",
              "  <thead>\n",
              "    <tr style=\"text-align: right;\">\n",
              "      <th></th>\n",
              "      <th>description</th>\n",
              "      <th>variety</th>\n",
              "    </tr>\n",
              "  </thead>\n",
              "  <tbody>\n",
              "    <tr>\n",
              "      <th>0</th>\n",
              "      <td>Aromas include tropical fruit, broom, brimston...</td>\n",
              "      <td>White Blend</td>\n",
              "    </tr>\n",
              "    <tr>\n",
              "      <th>1</th>\n",
              "      <td>This is ripe and fruity, a wine that is smooth...</td>\n",
              "      <td>Portuguese Red</td>\n",
              "    </tr>\n",
              "    <tr>\n",
              "      <th>2</th>\n",
              "      <td>Tart and snappy, the flavors of lime flesh and...</td>\n",
              "      <td>Pinot Gris</td>\n",
              "    </tr>\n",
              "    <tr>\n",
              "      <th>3</th>\n",
              "      <td>Pineapple rind, lemon pith and orange blossom ...</td>\n",
              "      <td>Riesling</td>\n",
              "    </tr>\n",
              "    <tr>\n",
              "      <th>4</th>\n",
              "      <td>Much like the regular bottling from 2012, this...</td>\n",
              "      <td>Pinot Noir</td>\n",
              "    </tr>\n",
              "    <tr>\n",
              "      <th>...</th>\n",
              "      <td>...</td>\n",
              "      <td>...</td>\n",
              "    </tr>\n",
              "    <tr>\n",
              "      <th>129966</th>\n",
              "      <td>Notes of honeysuckle and cantaloupe sweeten th...</td>\n",
              "      <td>Riesling</td>\n",
              "    </tr>\n",
              "    <tr>\n",
              "      <th>129967</th>\n",
              "      <td>Citation is given as much as a decade of bottl...</td>\n",
              "      <td>Pinot Noir</td>\n",
              "    </tr>\n",
              "    <tr>\n",
              "      <th>129968</th>\n",
              "      <td>Well-drained gravel soil gives this wine its c...</td>\n",
              "      <td>Gewürztraminer</td>\n",
              "    </tr>\n",
              "    <tr>\n",
              "      <th>129969</th>\n",
              "      <td>A dry style of Pinot Gris, this is crisp with ...</td>\n",
              "      <td>Pinot Gris</td>\n",
              "    </tr>\n",
              "    <tr>\n",
              "      <th>129970</th>\n",
              "      <td>Big, rich and off-dry, this is powered by inte...</td>\n",
              "      <td>Gewürztraminer</td>\n",
              "    </tr>\n",
              "  </tbody>\n",
              "</table>\n",
              "<p>129971 rows × 2 columns</p>\n",
              "</div>"
            ],
            "text/plain": [
              "                                              description         variety\n",
              "0       Aromas include tropical fruit, broom, brimston...     White Blend\n",
              "1       This is ripe and fruity, a wine that is smooth...  Portuguese Red\n",
              "2       Tart and snappy, the flavors of lime flesh and...      Pinot Gris\n",
              "3       Pineapple rind, lemon pith and orange blossom ...        Riesling\n",
              "4       Much like the regular bottling from 2012, this...      Pinot Noir\n",
              "...                                                   ...             ...\n",
              "129966  Notes of honeysuckle and cantaloupe sweeten th...        Riesling\n",
              "129967  Citation is given as much as a decade of bottl...      Pinot Noir\n",
              "129968  Well-drained gravel soil gives this wine its c...  Gewürztraminer\n",
              "129969  A dry style of Pinot Gris, this is crisp with ...      Pinot Gris\n",
              "129970  Big, rich and off-dry, this is powered by inte...  Gewürztraminer\n",
              "\n",
              "[129971 rows x 2 columns]"
            ]
          },
          "metadata": {
            "tags": []
          },
          "execution_count": 595
        }
      ]
    },
    {
      "cell_type": "code",
      "metadata": {
        "id": "g9UInZWLb0m6",
        "colab_type": "code",
        "colab": {
          "base_uri": "https://localhost:8080/",
          "height": 124
        },
        "outputId": "2568dd40-30b4-4ec8-9fba-376812fd2e8e"
      },
      "source": [
        "wine_df['variety'].value_counts()[:5]"
      ],
      "execution_count": 596,
      "outputs": [
        {
          "output_type": "execute_result",
          "data": {
            "text/plain": [
              "Pinot Noir                  13272\n",
              "Chardonnay                  11753\n",
              "Cabernet Sauvignon           9472\n",
              "Red Blend                    8946\n",
              "Bordeaux-style Red Blend     6915\n",
              "Name: variety, dtype: int64"
            ]
          },
          "metadata": {
            "tags": []
          },
          "execution_count": 596
        }
      ]
    },
    {
      "cell_type": "code",
      "metadata": {
        "id": "jbs6nCKlb0nB",
        "colab_type": "code",
        "colab": {}
      },
      "source": [
        "topVarieties = wine_df['variety'].value_counts()[:5].index.tolist()"
      ],
      "execution_count": 597,
      "outputs": []
    },
    {
      "cell_type": "code",
      "metadata": {
        "id": "gEERywKRb0nJ",
        "colab_type": "code",
        "colab": {}
      },
      "source": [
        "wine_df_short = wine_df[wine_df.variety.isin(topVarieties)].copy()"
      ],
      "execution_count": 598,
      "outputs": []
    },
    {
      "cell_type": "code",
      "metadata": {
        "id": "1acqw3crb0nO",
        "colab_type": "code",
        "colab": {
          "base_uri": "https://localhost:8080/",
          "height": 399
        },
        "outputId": "3af2de9d-ca5b-4f5f-f6df-908b43d003da"
      },
      "source": [
        "wine_df_short"
      ],
      "execution_count": 599,
      "outputs": [
        {
          "output_type": "execute_result",
          "data": {
            "text/html": [
              "<div>\n",
              "<style scoped>\n",
              "    .dataframe tbody tr th:only-of-type {\n",
              "        vertical-align: middle;\n",
              "    }\n",
              "\n",
              "    .dataframe tbody tr th {\n",
              "        vertical-align: top;\n",
              "    }\n",
              "\n",
              "    .dataframe thead th {\n",
              "        text-align: right;\n",
              "    }\n",
              "</style>\n",
              "<table border=\"1\" class=\"dataframe\">\n",
              "  <thead>\n",
              "    <tr style=\"text-align: right;\">\n",
              "      <th></th>\n",
              "      <th>description</th>\n",
              "      <th>variety</th>\n",
              "    </tr>\n",
              "  </thead>\n",
              "  <tbody>\n",
              "    <tr>\n",
              "      <th>4</th>\n",
              "      <td>Much like the regular bottling from 2012, this...</td>\n",
              "      <td>Pinot Noir</td>\n",
              "    </tr>\n",
              "    <tr>\n",
              "      <th>10</th>\n",
              "      <td>Soft, supple plum envelopes an oaky structure ...</td>\n",
              "      <td>Cabernet Sauvignon</td>\n",
              "    </tr>\n",
              "    <tr>\n",
              "      <th>12</th>\n",
              "      <td>Slightly reduced, this wine offers a chalky, t...</td>\n",
              "      <td>Cabernet Sauvignon</td>\n",
              "    </tr>\n",
              "    <tr>\n",
              "      <th>14</th>\n",
              "      <td>Building on 150 years and six generations of w...</td>\n",
              "      <td>Chardonnay</td>\n",
              "    </tr>\n",
              "    <tr>\n",
              "      <th>20</th>\n",
              "      <td>Ripe aromas of dark berries mingle with ample ...</td>\n",
              "      <td>Red Blend</td>\n",
              "    </tr>\n",
              "    <tr>\n",
              "      <th>...</th>\n",
              "      <td>...</td>\n",
              "      <td>...</td>\n",
              "    </tr>\n",
              "    <tr>\n",
              "      <th>129956</th>\n",
              "      <td>The blend is 44% Merlot, 33% Cabernet Sauvigno...</td>\n",
              "      <td>Bordeaux-style Red Blend</td>\n",
              "    </tr>\n",
              "    <tr>\n",
              "      <th>129958</th>\n",
              "      <td>This blend of Cabernet Sauvignon-Merlot and Ca...</td>\n",
              "      <td>Bordeaux-style Red Blend</td>\n",
              "    </tr>\n",
              "    <tr>\n",
              "      <th>129960</th>\n",
              "      <td>Fresh and fruity, this is full of red cherry f...</td>\n",
              "      <td>Pinot Noir</td>\n",
              "    </tr>\n",
              "    <tr>\n",
              "      <th>129963</th>\n",
              "      <td>A bouquet of black cherry, tart cranberry and ...</td>\n",
              "      <td>Cabernet Sauvignon</td>\n",
              "    </tr>\n",
              "    <tr>\n",
              "      <th>129967</th>\n",
              "      <td>Citation is given as much as a decade of bottl...</td>\n",
              "      <td>Pinot Noir</td>\n",
              "    </tr>\n",
              "  </tbody>\n",
              "</table>\n",
              "<p>50358 rows × 2 columns</p>\n",
              "</div>"
            ],
            "text/plain": [
              "                                              description                   variety\n",
              "4       Much like the regular bottling from 2012, this...                Pinot Noir\n",
              "10      Soft, supple plum envelopes an oaky structure ...        Cabernet Sauvignon\n",
              "12      Slightly reduced, this wine offers a chalky, t...        Cabernet Sauvignon\n",
              "14      Building on 150 years and six generations of w...                Chardonnay\n",
              "20      Ripe aromas of dark berries mingle with ample ...                 Red Blend\n",
              "...                                                   ...                       ...\n",
              "129956  The blend is 44% Merlot, 33% Cabernet Sauvigno...  Bordeaux-style Red Blend\n",
              "129958  This blend of Cabernet Sauvignon-Merlot and Ca...  Bordeaux-style Red Blend\n",
              "129960  Fresh and fruity, this is full of red cherry f...                Pinot Noir\n",
              "129963  A bouquet of black cherry, tart cranberry and ...        Cabernet Sauvignon\n",
              "129967  Citation is given as much as a decade of bottl...                Pinot Noir\n",
              "\n",
              "[50358 rows x 2 columns]"
            ]
          },
          "metadata": {
            "tags": []
          },
          "execution_count": 599
        }
      ]
    },
    {
      "cell_type": "code",
      "metadata": {
        "id": "8XgmNcpsb0nS",
        "colab_type": "code",
        "colab": {}
      },
      "source": [
        "wine_df_short['variety_num'] = wine_df_short['variety'].astype('category').cat.codes\n"
      ],
      "execution_count": 600,
      "outputs": []
    },
    {
      "cell_type": "code",
      "metadata": {
        "id": "R3gLrisgkwTU",
        "colab_type": "code",
        "colab": {
          "base_uri": "https://localhost:8080/",
          "height": 106
        },
        "outputId": "9253ef00-06e8-43ec-8bcf-875f8b99f580"
      },
      "source": [
        "wineNames = dict( enumerate(wine_df_short['variety'].astype('category').cat.categories ) )\n",
        "wineNames"
      ],
      "execution_count": 601,
      "outputs": [
        {
          "output_type": "execute_result",
          "data": {
            "text/plain": [
              "{0: 'Bordeaux-style Red Blend',\n",
              " 1: 'Cabernet Sauvignon',\n",
              " 2: 'Chardonnay',\n",
              " 3: 'Pinot Noir',\n",
              " 4: 'Red Blend'}"
            ]
          },
          "metadata": {
            "tags": []
          },
          "execution_count": 601
        }
      ]
    },
    {
      "cell_type": "code",
      "metadata": {
        "id": "pFU2CyGbb0nW",
        "colab_type": "code",
        "colab": {
          "base_uri": "https://localhost:8080/",
          "height": 399
        },
        "outputId": "a97f3ffa-f226-40b4-c82f-79ae8fd97136"
      },
      "source": [
        "wine_df_short"
      ],
      "execution_count": 602,
      "outputs": [
        {
          "output_type": "execute_result",
          "data": {
            "text/html": [
              "<div>\n",
              "<style scoped>\n",
              "    .dataframe tbody tr th:only-of-type {\n",
              "        vertical-align: middle;\n",
              "    }\n",
              "\n",
              "    .dataframe tbody tr th {\n",
              "        vertical-align: top;\n",
              "    }\n",
              "\n",
              "    .dataframe thead th {\n",
              "        text-align: right;\n",
              "    }\n",
              "</style>\n",
              "<table border=\"1\" class=\"dataframe\">\n",
              "  <thead>\n",
              "    <tr style=\"text-align: right;\">\n",
              "      <th></th>\n",
              "      <th>description</th>\n",
              "      <th>variety</th>\n",
              "      <th>variety_num</th>\n",
              "    </tr>\n",
              "  </thead>\n",
              "  <tbody>\n",
              "    <tr>\n",
              "      <th>4</th>\n",
              "      <td>Much like the regular bottling from 2012, this...</td>\n",
              "      <td>Pinot Noir</td>\n",
              "      <td>3</td>\n",
              "    </tr>\n",
              "    <tr>\n",
              "      <th>10</th>\n",
              "      <td>Soft, supple plum envelopes an oaky structure ...</td>\n",
              "      <td>Cabernet Sauvignon</td>\n",
              "      <td>1</td>\n",
              "    </tr>\n",
              "    <tr>\n",
              "      <th>12</th>\n",
              "      <td>Slightly reduced, this wine offers a chalky, t...</td>\n",
              "      <td>Cabernet Sauvignon</td>\n",
              "      <td>1</td>\n",
              "    </tr>\n",
              "    <tr>\n",
              "      <th>14</th>\n",
              "      <td>Building on 150 years and six generations of w...</td>\n",
              "      <td>Chardonnay</td>\n",
              "      <td>2</td>\n",
              "    </tr>\n",
              "    <tr>\n",
              "      <th>20</th>\n",
              "      <td>Ripe aromas of dark berries mingle with ample ...</td>\n",
              "      <td>Red Blend</td>\n",
              "      <td>4</td>\n",
              "    </tr>\n",
              "    <tr>\n",
              "      <th>...</th>\n",
              "      <td>...</td>\n",
              "      <td>...</td>\n",
              "      <td>...</td>\n",
              "    </tr>\n",
              "    <tr>\n",
              "      <th>129956</th>\n",
              "      <td>The blend is 44% Merlot, 33% Cabernet Sauvigno...</td>\n",
              "      <td>Bordeaux-style Red Blend</td>\n",
              "      <td>0</td>\n",
              "    </tr>\n",
              "    <tr>\n",
              "      <th>129958</th>\n",
              "      <td>This blend of Cabernet Sauvignon-Merlot and Ca...</td>\n",
              "      <td>Bordeaux-style Red Blend</td>\n",
              "      <td>0</td>\n",
              "    </tr>\n",
              "    <tr>\n",
              "      <th>129960</th>\n",
              "      <td>Fresh and fruity, this is full of red cherry f...</td>\n",
              "      <td>Pinot Noir</td>\n",
              "      <td>3</td>\n",
              "    </tr>\n",
              "    <tr>\n",
              "      <th>129963</th>\n",
              "      <td>A bouquet of black cherry, tart cranberry and ...</td>\n",
              "      <td>Cabernet Sauvignon</td>\n",
              "      <td>1</td>\n",
              "    </tr>\n",
              "    <tr>\n",
              "      <th>129967</th>\n",
              "      <td>Citation is given as much as a decade of bottl...</td>\n",
              "      <td>Pinot Noir</td>\n",
              "      <td>3</td>\n",
              "    </tr>\n",
              "  </tbody>\n",
              "</table>\n",
              "<p>50358 rows × 3 columns</p>\n",
              "</div>"
            ],
            "text/plain": [
              "                                              description  ... variety_num\n",
              "4       Much like the regular bottling from 2012, this...  ...           3\n",
              "10      Soft, supple plum envelopes an oaky structure ...  ...           1\n",
              "12      Slightly reduced, this wine offers a chalky, t...  ...           1\n",
              "14      Building on 150 years and six generations of w...  ...           2\n",
              "20      Ripe aromas of dark berries mingle with ample ...  ...           4\n",
              "...                                                   ...  ...         ...\n",
              "129956  The blend is 44% Merlot, 33% Cabernet Sauvigno...  ...           0\n",
              "129958  This blend of Cabernet Sauvignon-Merlot and Ca...  ...           0\n",
              "129960  Fresh and fruity, this is full of red cherry f...  ...           3\n",
              "129963  A bouquet of black cherry, tart cranberry and ...  ...           1\n",
              "129967  Citation is given as much as a decade of bottl...  ...           3\n",
              "\n",
              "[50358 rows x 3 columns]"
            ]
          },
          "metadata": {
            "tags": []
          },
          "execution_count": 602
        }
      ]
    },
    {
      "cell_type": "code",
      "metadata": {
        "id": "VOpWrNk_b0nZ",
        "colab_type": "code",
        "colab": {}
      },
      "source": [
        "# Split our data into training and test sets (80/20)\n",
        "train_df, test_df = np.split(wine_df_short.sample(frac=1), [int(.8*len(wine_df_short))])"
      ],
      "execution_count": 603,
      "outputs": []
    },
    {
      "cell_type": "code",
      "metadata": {
        "id": "w27v8yzTb0nf",
        "colab_type": "code",
        "colab": {
          "base_uri": "https://localhost:8080/",
          "height": 70
        },
        "outputId": "8c9c0ec9-ad4a-4be1-c6c7-f72c8aa48427"
      },
      "source": [
        "import string\n",
        "import nltk\n",
        "from nltk.corpus import stopwords\n",
        "nltk.download('stopwords')\n",
        "stops = stopwords.words('english')\n",
        "for i in topVarieties:\n",
        "  stops.extend(i.lower().split(' '))\n",
        "print(stops[-15:])\n"
      ],
      "execution_count": 604,
      "outputs": [
        {
          "output_type": "stream",
          "text": [
            "[nltk_data] Downloading package stopwords to /root/nltk_data...\n",
            "[nltk_data]   Package stopwords is already up-to-date!\n",
            "[\"weren't\", 'won', \"won't\", 'wouldn', \"wouldn't\", 'pinot', 'noir', 'chardonnay', 'cabernet', 'sauvignon', 'red', 'blend', 'bordeaux-style', 'red', 'blend']\n"
          ],
          "name": "stdout"
        }
      ]
    },
    {
      "cell_type": "code",
      "metadata": {
        "id": "zvqoXK2fb0ni",
        "colab_type": "code",
        "colab": {}
      },
      "source": [
        "def cleanText(text):\n",
        "    # Remove new lines from the text\n",
        "    text = text.replace(\"\\n\", \" \")\n",
        "    text = text.lower()\n",
        "    text = text.split(' ')\n",
        "    text = [w for w in text if not w in stops] \n",
        "    text = ' '.join(text)\n",
        "    text = text.translate(str.maketrans('', '', string.punctuation))\n",
        "    text = ''.join([i for i in text if not i.isdigit()])\n",
        "    return text"
      ],
      "execution_count": 605,
      "outputs": []
    },
    {
      "cell_type": "code",
      "metadata": {
        "id": "K3RZou-Sb0nm",
        "colab_type": "code",
        "colab": {}
      },
      "source": [
        "train_df['description'] = train_df['description'].apply(lambda x : cleanText(x))\n",
        "test_df['description'] = test_df['description'].apply(lambda x : cleanText(x))"
      ],
      "execution_count": 606,
      "outputs": []
    },
    {
      "cell_type": "code",
      "metadata": {
        "id": "TqW9hU61b0nq",
        "colab_type": "code",
        "colab": {
          "base_uri": "https://localhost:8080/",
          "height": 399
        },
        "outputId": "d4e111b1-7afa-43c2-a5a5-bdf3aa5d048c"
      },
      "source": [
        "train_df"
      ],
      "execution_count": 607,
      "outputs": [
        {
          "output_type": "execute_result",
          "data": {
            "text/html": [
              "<div>\n",
              "<style scoped>\n",
              "    .dataframe tbody tr th:only-of-type {\n",
              "        vertical-align: middle;\n",
              "    }\n",
              "\n",
              "    .dataframe tbody tr th {\n",
              "        vertical-align: top;\n",
              "    }\n",
              "\n",
              "    .dataframe thead th {\n",
              "        text-align: right;\n",
              "    }\n",
              "</style>\n",
              "<table border=\"1\" class=\"dataframe\">\n",
              "  <thead>\n",
              "    <tr style=\"text-align: right;\">\n",
              "      <th></th>\n",
              "      <th>description</th>\n",
              "      <th>variety</th>\n",
              "      <th>variety_num</th>\n",
              "    </tr>\n",
              "  </thead>\n",
              "  <tbody>\n",
              "    <tr>\n",
              "      <th>28539</th>\n",
              "      <td>ruddy primary cherry berry notes persist nose ...</td>\n",
              "      <td>Red Blend</td>\n",
              "      <td>4</td>\n",
              "    </tr>\n",
              "    <tr>\n",
              "      <th>108506</th>\n",
              "      <td>brings lot flavor table relatively modest pric...</td>\n",
              "      <td>Pinot Noir</td>\n",
              "      <td>3</td>\n",
              "    </tr>\n",
              "    <tr>\n",
              "      <th>2198</th>\n",
              "      <td>aromas ripe black plum underbrush exotic spice...</td>\n",
              "      <td>Red Blend</td>\n",
              "      <td>4</td>\n",
              "    </tr>\n",
              "    <tr>\n",
              "      <th>30287</th>\n",
              "      <td>brambly blackberry cassis fruit dominates over...</td>\n",
              "      <td>Cabernet Sauvignon</td>\n",
              "      <td>1</td>\n",
              "    </tr>\n",
              "    <tr>\n",
              "      <th>75558</th>\n",
              "      <td>brilliant aromatics rise layers fruit mineral ...</td>\n",
              "      <td>Pinot Noir</td>\n",
              "      <td>3</td>\n",
              "    </tr>\n",
              "    <tr>\n",
              "      <th>...</th>\n",
              "      <td>...</td>\n",
              "      <td>...</td>\n",
              "      <td>...</td>\n",
              "    </tr>\n",
              "    <tr>\n",
              "      <th>80301</th>\n",
              "      <td>aged bottle bit sauvignon franc bordeaux grape...</td>\n",
              "      <td>Bordeaux-style Red Blend</td>\n",
              "      <td>0</td>\n",
              "    </tr>\n",
              "    <tr>\n",
              "      <th>16058</th>\n",
              "      <td>rr wines receive special packaging little tech...</td>\n",
              "      <td>Pinot Noir</td>\n",
              "      <td>3</td>\n",
              "    </tr>\n",
              "    <tr>\n",
              "      <th>43221</th>\n",
              "      <td>offers impenetrable blackness thick aromatic l...</td>\n",
              "      <td>Red Blend</td>\n",
              "      <td>4</td>\n",
              "    </tr>\n",
              "    <tr>\n",
              "      <th>14877</th>\n",
              "      <td>attractive aromas perfumed berry baking spice ...</td>\n",
              "      <td>Red Blend</td>\n",
              "      <td>4</td>\n",
              "    </tr>\n",
              "    <tr>\n",
              "      <th>3062</th>\n",
              "      <td>young tart coolclimate acidity needs time cell...</td>\n",
              "      <td>Pinot Noir</td>\n",
              "      <td>3</td>\n",
              "    </tr>\n",
              "  </tbody>\n",
              "</table>\n",
              "<p>40286 rows × 3 columns</p>\n",
              "</div>"
            ],
            "text/plain": [
              "                                              description  ... variety_num\n",
              "28539   ruddy primary cherry berry notes persist nose ...  ...           4\n",
              "108506  brings lot flavor table relatively modest pric...  ...           3\n",
              "2198    aromas ripe black plum underbrush exotic spice...  ...           4\n",
              "30287   brambly blackberry cassis fruit dominates over...  ...           1\n",
              "75558   brilliant aromatics rise layers fruit mineral ...  ...           3\n",
              "...                                                   ...  ...         ...\n",
              "80301   aged bottle bit sauvignon franc bordeaux grape...  ...           0\n",
              "16058   rr wines receive special packaging little tech...  ...           3\n",
              "43221   offers impenetrable blackness thick aromatic l...  ...           4\n",
              "14877   attractive aromas perfumed berry baking spice ...  ...           4\n",
              "3062    young tart coolclimate acidity needs time cell...  ...           3\n",
              "\n",
              "[40286 rows x 3 columns]"
            ]
          },
          "metadata": {
            "tags": []
          },
          "execution_count": 607
        }
      ]
    },
    {
      "cell_type": "code",
      "metadata": {
        "id": "pB2PTVXWb0nu",
        "colab_type": "code",
        "colab": {}
      },
      "source": [
        "X = train_df['description']\n",
        "y = train_df['variety_num']"
      ],
      "execution_count": 608,
      "outputs": []
    },
    {
      "cell_type": "code",
      "metadata": {
        "id": "EgYR8ZUrb0ny",
        "colab_type": "code",
        "colab": {}
      },
      "source": [
        "vocab_size = 20000\n",
        "max_seq_length = 400"
      ],
      "execution_count": 609,
      "outputs": []
    },
    {
      "cell_type": "code",
      "metadata": {
        "id": "6yELYOGAb0n3",
        "colab_type": "code",
        "colab": {}
      },
      "source": [
        "# Construct a tokenizer using Keras\n",
        "X_tokenizer = text.Tokenizer(vocab_size)"
      ],
      "execution_count": 610,
      "outputs": []
    },
    {
      "cell_type": "code",
      "metadata": {
        "id": "NRMPjWAGb0n7",
        "colab_type": "code",
        "colab": {}
      },
      "source": [
        "# Fit the tokenizer on our text\n",
        "X_tokenizer.fit_on_texts(list(X))"
      ],
      "execution_count": 611,
      "outputs": []
    },
    {
      "cell_type": "code",
      "metadata": {
        "id": "IV3DLvilb0oC",
        "colab_type": "code",
        "colab": {}
      },
      "source": [
        "# Encode words in sentences as a list of integer sequences\n",
        "X_tokenized = X_tokenizer.texts_to_sequences(X)"
      ],
      "execution_count": 612,
      "outputs": []
    },
    {
      "cell_type": "code",
      "metadata": {
        "id": "9-sxCZRxb0oG",
        "colab_type": "code",
        "colab": {}
      },
      "source": [
        "# Pad sentences to maximum sequence length\n",
        "X_train_val = sequence.pad_sequences(X_tokenized, maxlen=max_seq_length)"
      ],
      "execution_count": 613,
      "outputs": []
    },
    {
      "cell_type": "code",
      "metadata": {
        "id": "Nj1DWfQcb0oT",
        "colab_type": "code",
        "colab": {}
      },
      "source": [
        "# # Save our fitted tokenizer for future use\n",
        "# with open('wine_tokenizer.pkl', 'wb') as f:\n",
        "#     pickle.dump(X_tokenizer, f, protocol=pickle.HIGHEST_PROTOCOL)"
      ],
      "execution_count": 568,
      "outputs": []
    },
    {
      "cell_type": "code",
      "metadata": {
        "id": "g7etI5clb0oW",
        "colab_type": "code",
        "colab": {}
      },
      "source": [
        "# # Download the GloVe embeddings and unzip the file\n",
        "# !wget http://nlp.stanford.edu/data/glove.6B.zip\n",
        "# !unzip -q glove.6B.zip"
      ],
      "execution_count": 569,
      "outputs": []
    },
    {
      "cell_type": "code",
      "metadata": {
        "id": "Hl7e2EuPb0oZ",
        "colab_type": "code",
        "colab": {
          "base_uri": "https://localhost:8080/",
          "height": 35
        },
        "outputId": "18c56df7-7ff1-4ab7-c8b2-000bb50eca3f"
      },
      "source": [
        "# Load the pre-trained word vectors\n",
        "embedding_dim = 100\n",
        "embeddings_index = dict()\n",
        "f = open('glove.6B.100d.txt')\n",
        "for line in f:\n",
        "    values = line.split()\n",
        "    word = values[0]\n",
        "    coefs = np.asarray(values[1:],dtype='float32')\n",
        "    embeddings_index[word]= coefs\n",
        "f.close()\n",
        "print(f'Found {len(embeddings_index)} word vectors')"
      ],
      "execution_count": 614,
      "outputs": [
        {
          "output_type": "stream",
          "text": [
            "Found 400000 word vectors\n"
          ],
          "name": "stdout"
        }
      ]
    },
    {
      "cell_type": "code",
      "metadata": {
        "id": "cFB3tCfUb0od",
        "colab_type": "code",
        "colab": {}
      },
      "source": [
        "# Create embedding matrix for our neural network\n",
        "embedding_matrix = np.zeros((vocab_size, embedding_dim))\n",
        "for word, index in X_tokenizer.word_index.items():\n",
        "    if index > vocab_size - 1:\n",
        "        break\n",
        "    else:\n",
        "        embedding_vector = embeddings_index.get(word)\n",
        "        if embedding_vector is not None:\n",
        "            embedding_matrix[index]= embedding_vector"
      ],
      "execution_count": 615,
      "outputs": []
    },
    {
      "cell_type": "code",
      "metadata": {
        "id": "AmxrJer0b0og",
        "colab_type": "code",
        "colab": {
          "base_uri": "https://localhost:8080/",
          "height": 36
        },
        "outputId": "5c9c7445-dbe5-47b5-d1a9-e119b4ba9d11"
      },
      "source": [
        "from tensorflow.keras.utils import to_categorical\n",
        "\n",
        "y = to_categorical(np.array(y))\n",
        "\n",
        "'''\n",
        "sigmoid:\n",
        "0.88\n",
        "1\n",
        "\n",
        "softmax:\n",
        "[0.10, 0.35, 0.55] = 1\n",
        "2\n",
        "[0, 0, 1]\n",
        "\n",
        "'''\n"
      ],
      "execution_count": 616,
      "outputs": [
        {
          "output_type": "execute_result",
          "data": {
            "application/vnd.google.colaboratory.intrinsic+json": {
              "type": "string"
            },
            "text/plain": [
              "'\\nsigmoid:\\n0.88\\n1\\n\\nsoftmax:\\n[0.10, 0.35, 0.55] = 1\\n2\\n[0, 0, 1]\\n\\n'"
            ]
          },
          "metadata": {
            "tags": []
          },
          "execution_count": 616
        }
      ]
    },
    {
      "cell_type": "code",
      "metadata": {
        "id": "ECqyvj43b0ok",
        "colab_type": "code",
        "colab": {}
      },
      "source": [
        "# Hyperparameters\n",
        "filters = 250\n",
        "kernel_size = 3\n",
        "hidden_dims = 300"
      ],
      "execution_count": 617,
      "outputs": []
    },
    {
      "cell_type": "code",
      "metadata": {
        "id": "HFRW01LTb0on",
        "colab_type": "code",
        "colab": {}
      },
      "source": [
        "model = Sequential()\n",
        "model.add(Embedding(vocab_size,\n",
        "                    embedding_dim,\n",
        "                    embeddings_initializer=tf.keras.initializers.Constant(embedding_matrix),\n",
        "                    trainable=False))\n",
        "model.add(Dropout(0.1))\n",
        "model.add(Conv1D(filters,\n",
        "                 kernel_size,\n",
        "                 padding='same',\n",
        "                 activation='relu'))\n",
        "model.add(MaxPooling1D(pool_size=2,\n",
        "                       strides=None,\n",
        "                       padding='same',))\n",
        "model.add(Conv1D(filters,\n",
        "                 kernel_size,\n",
        "                 padding='same',\n",
        "                 activation='relu'))\n",
        "model.add(GlobalMaxPooling1D())\n",
        "model.add(Dense(hidden_dims, activation='relu'))\n",
        "model.add(Dropout(0.1))\n",
        "model.add(Dense(5, activation='softmax'))"
      ],
      "execution_count": 618,
      "outputs": []
    },
    {
      "cell_type": "code",
      "metadata": {
        "id": "dW2uXD45b0oq",
        "colab_type": "code",
        "colab": {}
      },
      "source": [
        "model.compile(loss='categorical_crossentropy', optimizer='adam', metrics=['accuracy'])"
      ],
      "execution_count": 619,
      "outputs": []
    },
    {
      "cell_type": "code",
      "metadata": {
        "id": "vT6xZYZVb0ow",
        "colab_type": "code",
        "colab": {}
      },
      "source": [
        "# Number of samples processed before the model is updated\n",
        "batch_size= 16\n",
        "# Number of times we go through the entire dataset (forward and backward)\n",
        "epochs = 3"
      ],
      "execution_count": 620,
      "outputs": []
    },
    {
      "cell_type": "code",
      "metadata": {
        "id": "KbkmwxEjb0oy",
        "colab_type": "code",
        "colab": {}
      },
      "source": [
        "X_train, X_val, y_train, y_val = train_test_split(X_train_val, y, test_size=0.20)"
      ],
      "execution_count": 621,
      "outputs": []
    },
    {
      "cell_type": "code",
      "metadata": {
        "id": "7ZfcJwwib0o1",
        "colab_type": "code",
        "colab": {
          "base_uri": "https://localhost:8080/",
          "height": 124
        },
        "outputId": "fd2df6aa-0fd0-42bb-d91c-aad92d5aeeb3"
      },
      "source": [
        "# Fit the model\n",
        "hist = model.fit(X_train, y_train,\n",
        "                 batch_size=batch_size,\n",
        "                 epochs=epochs,\n",
        "                 validation_data=(X_val, y_val)\n",
        "                 )"
      ],
      "execution_count": 629,
      "outputs": [
        {
          "output_type": "stream",
          "text": [
            "Epoch 1/3\n",
            "2015/2015 [==============================] - 25s 13ms/step - loss: 0.8289 - accuracy: 0.6809 - val_loss: 0.6779 - val_accuracy: 0.7364\n",
            "Epoch 2/3\n",
            "2015/2015 [==============================] - 24s 12ms/step - loss: 0.6171 - accuracy: 0.7670 - val_loss: 0.6137 - val_accuracy: 0.7646\n",
            "Epoch 3/3\n",
            "2015/2015 [==============================] - 25s 12ms/step - loss: 0.5100 - accuracy: 0.8099 - val_loss: 0.6312 - val_accuracy: 0.7684\n"
          ],
          "name": "stdout"
        }
      ]
    },
    {
      "cell_type": "code",
      "metadata": {
        "id": "0Gt2N0oHK5NM",
        "colab_type": "code",
        "colab": {}
      },
      "source": [
        "model = tf.keras.models.load_model('wine_cnn_5_wines.h5')"
      ],
      "execution_count": 622,
      "outputs": []
    },
    {
      "cell_type": "code",
      "metadata": {
        "id": "z5Bkfge9c3va",
        "colab_type": "code",
        "colab": {
          "base_uri": "https://localhost:8080/",
          "height": 36
        },
        "outputId": "6a0f80fe-833f-45bb-b3fc-6f5287a3fd85"
      },
      "source": [
        "'''model.save('wine_cnn_5_wines.h5')\n",
        "'''"
      ],
      "execution_count": 580,
      "outputs": [
        {
          "output_type": "execute_result",
          "data": {
            "application/vnd.google.colaboratory.intrinsic+json": {
              "type": "string"
            },
            "text/plain": [
              "\"model.save('wine_cnn_5_wines.h5')\\n\""
            ]
          },
          "metadata": {
            "tags": []
          },
          "execution_count": 580
        }
      ]
    },
    {
      "cell_type": "code",
      "metadata": {
        "id": "zcLgyV4FnL31",
        "colab_type": "code",
        "colab": {
          "base_uri": "https://localhost:8080/",
          "height": 35
        },
        "outputId": "2e7b9bed-2dd8-4903-88f2-0845f7319e25"
      },
      "source": [
        "X_test = test_df['description'].values\n",
        "y_test = test_df['variety_num'].values\n",
        "print(y_test[0:1])"
      ],
      "execution_count": 623,
      "outputs": [
        {
          "output_type": "stream",
          "text": [
            "[2]\n"
          ],
          "name": "stdout"
        }
      ]
    },
    {
      "cell_type": "code",
      "metadata": {
        "colab_type": "code",
        "id": "6F6bsbSPT9Kv",
        "colab": {}
      },
      "source": [
        "# Encode words in sentences as a list of integer sequences\n",
        "X_test_tokenized = X_tokenizer.texts_to_sequences(X_test)"
      ],
      "execution_count": 624,
      "outputs": []
    },
    {
      "cell_type": "code",
      "metadata": {
        "id": "D6_8Rl6QhPJv",
        "colab_type": "code",
        "colab": {}
      },
      "source": [
        ""
      ],
      "execution_count": 582,
      "outputs": []
    },
    {
      "cell_type": "code",
      "metadata": {
        "colab_type": "code",
        "id": "MBEOzzPiT9K9",
        "colab": {}
      },
      "source": [
        "# Pad sentences to maximum sequence length\n",
        "X_test_val = sequence.pad_sequences(X_test_tokenized, maxlen=max_seq_length)"
      ],
      "execution_count": 625,
      "outputs": []
    },
    {
      "cell_type": "markdown",
      "metadata": {
        "id": "6WynpxVBhTDl",
        "colab_type": "text"
      },
      "source": [
        ""
      ]
    },
    {
      "cell_type": "code",
      "metadata": {
        "id": "W8D8Frvjb0o4",
        "colab_type": "code",
        "colab": {}
      },
      "source": [
        "# y_pred = model.predict(X_test_val)\n",
        "y_pred = np.argmax(model.predict(X_test_val), axis=-1)\n"
      ],
      "execution_count": 630,
      "outputs": []
    },
    {
      "cell_type": "code",
      "metadata": {
        "id": "vSfmI5zTnVFO",
        "colab_type": "code",
        "colab": {
          "base_uri": "https://localhost:8080/",
          "height": 215
        },
        "outputId": "40cd40b1-7865-4a7e-e747-a7e9e4c9987e"
      },
      "source": [
        "(test_df.head(10).description).tolist()"
      ],
      "execution_count": 585,
      "outputs": [
        {
          "output_type": "execute_result",
          "data": {
            "text/plain": [
              "['firstrelease winery founded napa valleys dennis cakebread sauvignon merlot franc seven hills vineyard shows notes tomato leaf chocolate cherry vanilla oak  new french american initially takes lead fruit flavors focused soft oak giving tannins slightly astringent feel',\n",
              " 'many people châteaus named them caroline chanfreauphilippon runs part château lestage cru bourgeois rich structured wine concentrated ripe juicy attractive blackcurrant fruits typical vintage firm tannins tight structure drink wine ',\n",
              " ' vineyard s spring mountain estate cabernets require aging show best  dry tannic unrewarding due astringency acidity terrific heart blackberries minerals thats vast rich—indicative great growing conditions begin come ',\n",
              " 'several producers finest vineyards including georganne flax olivet lane klopp offers complex notes smoky lavender licorice velvety texture underlies mouthcoating flavors blackberry jam pomegranate cardamom finishing tartly acidity',\n",
              " 'big solid firm wine edge little farmyard weight though along smoky fruity flavors black plums',\n",
              " 'reserveseries wine opens honeysuckle offering wealth floral aromas unveiling backbone caramel oak starting fresh crisp acidity citrus evolves glass become richer unctuous texture boldness baked apple',\n",
              " 'question concerning wine whether good—it is instead ageability made  grown two different places pritchard hill coombsville dry refined floods mouth blackberry blueberry cassis dark chocolate spice new oak flavors whose richness tempered firm minerality really fabulous respects delicious now makes wonder even risk six years cellar',\n",
              " 'made lighter style comes cooler napa side carneros light mediumbodied dry silky texture pleasant flavors cherries exotic dusty spices sandalwood elegant moderate alcohol wine drink now',\n",
              " 'hardly gets richer riper this wine offers huge blast ripe concentrated blackberries cherries cassis mocha tannins dense yet soft rich acidity strong enough support structure beauty lovely drink now develop next plus years',\n",
              " ' sauvignon merlot aglianico southern italy delivers beautiful purity intensity aromas include blackberry tobacco leather rum cake polished black stone tastes firm full palate could use years cellar aging']"
            ]
          },
          "metadata": {
            "tags": []
          },
          "execution_count": 585
        }
      ]
    },
    {
      "cell_type": "code",
      "metadata": {
        "id": "cgo0HFqOZvQG",
        "colab_type": "code",
        "colab": {
          "base_uri": "https://localhost:8080/",
          "height": 361
        },
        "outputId": "77b7afbb-a0e4-4757-a012-09f1021e9752"
      },
      "source": [
        "\n",
        "print(y_test[:10])\n",
        "print(y_pred[:10])\n",
        "cm = confusion_matrix(y_test, y_pred)\n",
        "fig = sns.heatmap(cm, annot=True, fmt=\"d\")\n",
        "plt.title(\"Confusion Matrix\")\n",
        "plt.xlabel(\"Predicted Label\")\n",
        "plt.ylabel(\"Actual Label\")\n",
        "plt.show(fig)\n"
      ],
      "execution_count": 631,
      "outputs": [
        {
          "output_type": "stream",
          "text": [
            "[2 1 2 1 0 0 1 4 4 4]\n",
            "[2 0 1 1 2 3 1 4 4 4]\n"
          ],
          "name": "stdout"
        },
        {
          "output_type": "display_data",
          "data": {
            "image/png": "[encoded data removed]",
            "text/plain": [
              "<Figure size 432x288 with 2 Axes>"
            ]
          },
          "metadata": {
            "tags": []
          }
        }
      ]
    },
    {
      "cell_type": "code",
      "metadata": {
        "id": "D0-fsRHocgGu",
        "colab_type": "code",
        "colab": {
          "base_uri": "https://localhost:8080/",
          "height": 35
        },
        "outputId": "98de66b1-4f83-4941-beef-68363a2b2b74"
      },
      "source": [
        "accuracy_score(y_test, y_pred)"
      ],
      "execution_count": 632,
      "outputs": [
        {
          "output_type": "execute_result",
          "data": {
            "text/plain": [
              "0.7754169976171564"
            ]
          },
          "metadata": {
            "tags": []
          },
          "execution_count": 632
        }
      ]
    },
    {
      "cell_type": "code",
      "metadata": {
        "id": "XGsvcVDqgwzU",
        "colab_type": "code",
        "colab": {}
      },
      "source": [
        "!pip install tf-nightly"
      ],
      "execution_count": null,
      "outputs": []
    },
    {
      "cell_type": "code",
      "metadata": {
        "id": "CZEVXy2mnneq",
        "colab_type": "code",
        "colab": {
          "base_uri": "https://localhost:8080/",
          "height": 378
        },
        "outputId": "f6f0b2ee-2756-48f1-ce6c-02fc4ba42828"
      },
      "source": [
        "print((test_df.head(10).description).tolist())\n",
        "test_df.head(10)"
      ],
      "execution_count": 633,
      "outputs": [
        {
          "output_type": "stream",
          "text": [
            "['crunchy enticing freshness first pale almost translucent apples year underneath brings earth chalk stone yeast autolysis distinct expresses restrained chalky background imbues entire wine soft gentle fine creaminess elegant serious lasting', 'composed cherry cassis tobacco oak aromas elegant spot alert palate bold acidity moderate tannins lightly herbal plum cherry aromas earthy leafy green ruggedfeeling herbal finish suggests franc  cab sauvignon', 'good year chablis breath freshness impressive powerful  vintage still weight intensity chablis shows that extra dimension spice nuts tight appleskin structure leading fresh finish', 'topend dynamic moletto estate delivers impressive intensity extremely attractive notes black fruit toasted spice black stone nose slightly sweet smelling mouthfeel modern penetrating plush velvety', 'fresh fruity already drinkable tannins could soften further bright fruits acidity juicy enough already mineral texture fragrant aftertaste form balanced combination cuvée selected plots beynat property', 'light fruity fragrant attractive crisp wine highlights redberry fruits soft acidity wine drink now', 'juicy blackberry cherry leathery tannins characterize fullbodied dense complex wine velvetysmooth palate though fruit nicely developed full figured tannins continue integrate time bottle cellar ', 'miracle grateful dead fans matured wine theres lots like thats got bright friendly cherry fruit lick spice surprising sophistication medium weight shock silky berry fruit finish  zinfandel  petite sirah  barbera  sangiovese pair mushroom pizza burgers jerry would approve', 'labeled such petite sirah fruit young plummy purpleberry flavors abundance drops midpalate returns ripe potent finish tannins proportionate all optimal pizza wine', 'gê one chiles perennial best blends mixes syrah carmenère lovable complex whole nose spicy yet suave cool berry herb olive aromas feels fresh full clean olive pepper cherry cassis coffee chocolate flavors palate finish  cases made drink now–']\n"
          ],
          "name": "stdout"
        },
        {
          "output_type": "execute_result",
          "data": {
            "text/html": [
              "<div>\n",
              "<style scoped>\n",
              "    .dataframe tbody tr th:only-of-type {\n",
              "        vertical-align: middle;\n",
              "    }\n",
              "\n",
              "    .dataframe tbody tr th {\n",
              "        vertical-align: top;\n",
              "    }\n",
              "\n",
              "    .dataframe thead th {\n",
              "        text-align: right;\n",
              "    }\n",
              "</style>\n",
              "<table border=\"1\" class=\"dataframe\">\n",
              "  <thead>\n",
              "    <tr style=\"text-align: right;\">\n",
              "      <th></th>\n",
              "      <th>description</th>\n",
              "      <th>variety</th>\n",
              "      <th>variety_num</th>\n",
              "    </tr>\n",
              "  </thead>\n",
              "  <tbody>\n",
              "    <tr>\n",
              "      <th>70570</th>\n",
              "      <td>crunchy enticing freshness first pale almost t...</td>\n",
              "      <td>Chardonnay</td>\n",
              "      <td>2</td>\n",
              "    </tr>\n",
              "    <tr>\n",
              "      <th>78722</th>\n",
              "      <td>composed cherry cassis tobacco oak aromas eleg...</td>\n",
              "      <td>Cabernet Sauvignon</td>\n",
              "      <td>1</td>\n",
              "    </tr>\n",
              "    <tr>\n",
              "      <th>126698</th>\n",
              "      <td>good year chablis breath freshness impressive ...</td>\n",
              "      <td>Chardonnay</td>\n",
              "      <td>2</td>\n",
              "    </tr>\n",
              "    <tr>\n",
              "      <th>107614</th>\n",
              "      <td>topend dynamic moletto estate delivers impress...</td>\n",
              "      <td>Cabernet Sauvignon</td>\n",
              "      <td>1</td>\n",
              "    </tr>\n",
              "    <tr>\n",
              "      <th>48406</th>\n",
              "      <td>fresh fruity already drinkable tannins could s...</td>\n",
              "      <td>Bordeaux-style Red Blend</td>\n",
              "      <td>0</td>\n",
              "    </tr>\n",
              "    <tr>\n",
              "      <th>38494</th>\n",
              "      <td>light fruity fragrant attractive crisp wine hi...</td>\n",
              "      <td>Bordeaux-style Red Blend</td>\n",
              "      <td>0</td>\n",
              "    </tr>\n",
              "    <tr>\n",
              "      <th>17101</th>\n",
              "      <td>juicy blackberry cherry leathery tannins chara...</td>\n",
              "      <td>Cabernet Sauvignon</td>\n",
              "      <td>1</td>\n",
              "    </tr>\n",
              "    <tr>\n",
              "      <th>25687</th>\n",
              "      <td>miracle grateful dead fans matured wine theres...</td>\n",
              "      <td>Red Blend</td>\n",
              "      <td>4</td>\n",
              "    </tr>\n",
              "    <tr>\n",
              "      <th>44288</th>\n",
              "      <td>labeled such petite sirah fruit young plummy p...</td>\n",
              "      <td>Red Blend</td>\n",
              "      <td>4</td>\n",
              "    </tr>\n",
              "    <tr>\n",
              "      <th>1509</th>\n",
              "      <td>gê one chiles perennial best blends mixes syra...</td>\n",
              "      <td>Red Blend</td>\n",
              "      <td>4</td>\n",
              "    </tr>\n",
              "  </tbody>\n",
              "</table>\n",
              "</div>"
            ],
            "text/plain": [
              "                                              description  ... variety_num\n",
              "70570   crunchy enticing freshness first pale almost t...  ...           2\n",
              "78722   composed cherry cassis tobacco oak aromas eleg...  ...           1\n",
              "126698  good year chablis breath freshness impressive ...  ...           2\n",
              "107614  topend dynamic moletto estate delivers impress...  ...           1\n",
              "48406   fresh fruity already drinkable tannins could s...  ...           0\n",
              "38494   light fruity fragrant attractive crisp wine hi...  ...           0\n",
              "17101   juicy blackberry cherry leathery tannins chara...  ...           1\n",
              "25687   miracle grateful dead fans matured wine theres...  ...           4\n",
              "44288   labeled such petite sirah fruit young plummy p...  ...           4\n",
              "1509    gê one chiles perennial best blends mixes syra...  ...           4\n",
              "\n",
              "[10 rows x 3 columns]"
            ]
          },
          "metadata": {
            "tags": []
          },
          "execution_count": 633
        }
      ]
    },
    {
      "cell_type": "code",
      "metadata": {
        "id": "cIlhNGtOgANf",
        "colab_type": "code",
        "colab": {
          "base_uri": "https://localhost:8080/",
          "height": 106
        },
        "outputId": "8cc56178-35cf-4e1a-a85e-aeeda189d00d"
      },
      "source": [
        "wineReview = input(\"Enter a description of what you want your wine to taste like: \")\n",
        "while(wineReview != 'exit'):\n",
        "  wineReview = cleanText(wineReview)\n",
        "  wine_tokenized = X_tokenizer.texts_to_sequences([wineReview])\n",
        "  wine_padded = sequence.pad_sequences(wine_tokenized[0:1], maxlen=max_seq_length)\n",
        "  predictedWine = np.argmax(model.predict(wine_padded), axis=-1)\n",
        "  print(wineNames[int(predictedWine)])\n",
        "  wineReview = input(\"Enter a description of what you want your wine to taste like: \")"
      ],
      "execution_count": 634,
      "outputs": [
        {
          "output_type": "stream",
          "text": [
            "Enter a description of what you want your wine to taste like: apple and blackberry with some spice\n",
            "Cabernet Sauvignon\n",
            "Enter a description of what you want your wine to taste like: cherry and raspberry\n",
            "Pinot Noir\n",
            "Enter a description of what you want your wine to taste like: exit\n"
          ],
          "name": "stdout"
        }
      ]
    }
  ]
}