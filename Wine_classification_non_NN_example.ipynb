{
  "nbformat": 4,
  "nbformat_minor": 0,
  "metadata": {
    "accelerator": "GPU",
    "colab": {
      "name": "Wine_classification_non_NN_example.ipynb",
      "provenance": [],
      "collapsed_sections": [],
      "toc_visible": true
    },
    "kernelspec": {
      "display_name": "Python 3",
      "language": "python",
      "name": "python3"
    },
    "language_info": {
      "codemirror_mode": {
        "name": "ipython",
        "version": 3
      },
      "file_extension": ".py",
      "mimetype": "text/x-python",
      "name": "python",
      "nbconvert_exporter": "python",
      "pygments_lexer": "ipython3",
      "version": "3.6.9"
    }
  },
  "cells": [
    {
      "cell_type": "markdown",
      "metadata": {
        "colab_type": "text",
        "id": "MemFGW7ksHC4"
      },
      "source": [
        "# Wine Classification"
      ]
    },
    {
      "cell_type": "code",
      "metadata": {
        "colab_type": "code",
        "id": "PvVbtuzBsHDO",
        "colab": {
          "base_uri": "https://localhost:8080/",
          "height": 90
        },
        "outputId": "ed512ae1-11a9-4eda-de95-4d2299234af2"
      },
      "source": [
        "import numpy as np\n",
        "import pandas as pd\n",
        "import pickle\n",
        "import tensorflow as tf\n",
        "from wordcloud import WordCloud\n",
        "import matplotlib.pyplot as plt\n",
        "from tensorflow.keras.preprocessing import text, sequence\n",
        "from tensorflow.keras.models import Sequential\n",
        "from tensorflow.keras.layers import Dense, Dropout, Activation\n",
        "from tensorflow.keras.layers import Embedding\n",
        "from tensorflow.keras.layers import Conv1D, GlobalMaxPooling1D, MaxPooling1D\n",
        "from sklearn.model_selection import train_test_split\n",
        "from sklearn.metrics import accuracy_score, f1_score, confusion_matrix\n",
        "import seaborn as sns\n",
        "plt.style.use('fivethirtyeight')\n",
        "print(tf.__version__)"
      ],
      "execution_count": 4,
      "outputs": [
        {
          "output_type": "stream",
          "text": [
            "2.2.0\n"
          ],
          "name": "stdout"
        },
        {
          "output_type": "stream",
          "text": [
            "/usr/local/lib/python3.6/dist-packages/statsmodels/tools/_testing.py:19: FutureWarning: pandas.util.testing is deprecated. Use the functions in the public API at pandas.testing instead.\n",
            "  import pandas.util.testing as tm\n"
          ],
          "name": "stderr"
        }
      ]
    },
    {
      "cell_type": "code",
      "metadata": {
        "id": "XmWRNBzKeR4y",
        "colab_type": "code",
        "colab": {
          "base_uri": "https://localhost:8080/",
          "height": 126
        },
        "outputId": "991c189a-31cd-4767-ba5e-7a118a26ee56"
      },
      "source": [
        "# Mount your Google Drive\n",
        "from google.colab import drive\n",
        "drive.mount('/content/gdrive/', force_remount=True)"
      ],
      "execution_count": 5,
      "outputs": [
        {
          "output_type": "stream",
          "text": [
            "Go to this URL in a browser: https://accounts.google.com/o/oauth2/auth?client_id=947318989803-6bn6qk8qdgf4n4g3pfee6491hc0brc4i.apps.googleusercontent.com&redirect_uri=urn%3aietf%3awg%3aoauth%3a2.0%3aoob&response_type=code&scope=email%20https%3a%2f%2fwww.googleapis.com%2fauth%2fdocs.test%20https%3a%2f%2fwww.googleapis.com%2fauth%2fdrive%20https%3a%2f%2fwww.googleapis.com%2fauth%2fdrive.photos.readonly%20https%3a%2f%2fwww.googleapis.com%2fauth%2fpeopleapi.readonly\n",
            "\n",
            "Enter your authorization code:\n",
            "··········\n",
            "Mounted at /content/gdrive/\n"
          ],
          "name": "stdout"
        }
      ]
    },
    {
      "cell_type": "code",
      "metadata": {
        "id": "mxVkoOjefKnU",
        "colab_type": "code",
        "colab": {}
      },
      "source": [
        "# Change to top directory of your Drive\n",
        "import os\n",
        "os.chdir('/content/gdrive/Shared drives/AI4ALL SFU NLP GROUP 3/WINE')"
      ],
      "execution_count": 6,
      "outputs": []
    },
    {
      "cell_type": "code",
      "metadata": {
        "colab_type": "code",
        "id": "UkOBp_TDsHDj",
        "colab": {}
      },
      "source": [
        "# Load data\n",
        "df = pd.read_csv('winemag-data-130k-v2.csv')"
      ],
      "execution_count": 7,
      "outputs": []
    },
    {
      "cell_type": "code",
      "metadata": {
        "colab_type": "code",
        "id": "KLqhFuE2sHDp",
        "colab": {
          "base_uri": "https://localhost:8080/",
          "height": 985
        },
        "outputId": "2e857cde-8cde-4148-fabd-b1e3000b5b33"
      },
      "source": [
        "df.head(10)"
      ],
      "execution_count": 8,
      "outputs": [
        {
          "output_type": "execute_result",
          "data": {
            "text/html": [
              "<div>\n",
              "<style scoped>\n",
              "    .dataframe tbody tr th:only-of-type {\n",
              "        vertical-align: middle;\n",
              "    }\n",
              "\n",
              "    .dataframe tbody tr th {\n",
              "        vertical-align: top;\n",
              "    }\n",
              "\n",
              "    .dataframe thead th {\n",
              "        text-align: right;\n",
              "    }\n",
              "</style>\n",
              "<table border=\"1\" class=\"dataframe\">\n",
              "  <thead>\n",
              "    <tr style=\"text-align: right;\">\n",
              "      <th></th>\n",
              "      <th>Unnamed: 0</th>\n",
              "      <th>country</th>\n",
              "      <th>description</th>\n",
              "      <th>designation</th>\n",
              "      <th>points</th>\n",
              "      <th>price</th>\n",
              "      <th>province</th>\n",
              "      <th>region_1</th>\n",
              "      <th>region_2</th>\n",
              "      <th>taster_name</th>\n",
              "      <th>taster_twitter_handle</th>\n",
              "      <th>title</th>\n",
              "      <th>variety</th>\n",
              "      <th>winery</th>\n",
              "    </tr>\n",
              "  </thead>\n",
              "  <tbody>\n",
              "    <tr>\n",
              "      <th>0</th>\n",
              "      <td>0</td>\n",
              "      <td>Italy</td>\n",
              "      <td>Aromas include tropical fruit, broom, brimston...</td>\n",
              "      <td>Vulkà Bianco</td>\n",
              "      <td>87</td>\n",
              "      <td>NaN</td>\n",
              "      <td>Sicily &amp; Sardinia</td>\n",
              "      <td>Etna</td>\n",
              "      <td>NaN</td>\n",
              "      <td>Kerin O’Keefe</td>\n",
              "      <td>@kerinokeefe</td>\n",
              "      <td>Nicosia 2013 Vulkà Bianco  (Etna)</td>\n",
              "      <td>White Blend</td>\n",
              "      <td>Nicosia</td>\n",
              "    </tr>\n",
              "    <tr>\n",
              "      <th>1</th>\n",
              "      <td>1</td>\n",
              "      <td>Portugal</td>\n",
              "      <td>This is ripe and fruity, a wine that is smooth...</td>\n",
              "      <td>Avidagos</td>\n",
              "      <td>87</td>\n",
              "      <td>15.0</td>\n",
              "      <td>Douro</td>\n",
              "      <td>NaN</td>\n",
              "      <td>NaN</td>\n",
              "      <td>Roger Voss</td>\n",
              "      <td>@vossroger</td>\n",
              "      <td>Quinta dos Avidagos 2011 Avidagos Red (Douro)</td>\n",
              "      <td>Portuguese Red</td>\n",
              "      <td>Quinta dos Avidagos</td>\n",
              "    </tr>\n",
              "    <tr>\n",
              "      <th>2</th>\n",
              "      <td>2</td>\n",
              "      <td>US</td>\n",
              "      <td>Tart and snappy, the flavors of lime flesh and...</td>\n",
              "      <td>NaN</td>\n",
              "      <td>87</td>\n",
              "      <td>14.0</td>\n",
              "      <td>Oregon</td>\n",
              "      <td>Willamette Valley</td>\n",
              "      <td>Willamette Valley</td>\n",
              "      <td>Paul Gregutt</td>\n",
              "      <td>@paulgwine</td>\n",
              "      <td>Rainstorm 2013 Pinot Gris (Willamette Valley)</td>\n",
              "      <td>Pinot Gris</td>\n",
              "      <td>Rainstorm</td>\n",
              "    </tr>\n",
              "    <tr>\n",
              "      <th>3</th>\n",
              "      <td>3</td>\n",
              "      <td>US</td>\n",
              "      <td>Pineapple rind, lemon pith and orange blossom ...</td>\n",
              "      <td>Reserve Late Harvest</td>\n",
              "      <td>87</td>\n",
              "      <td>13.0</td>\n",
              "      <td>Michigan</td>\n",
              "      <td>Lake Michigan Shore</td>\n",
              "      <td>NaN</td>\n",
              "      <td>Alexander Peartree</td>\n",
              "      <td>NaN</td>\n",
              "      <td>St. Julian 2013 Reserve Late Harvest Riesling ...</td>\n",
              "      <td>Riesling</td>\n",
              "      <td>St. Julian</td>\n",
              "    </tr>\n",
              "    <tr>\n",
              "      <th>4</th>\n",
              "      <td>4</td>\n",
              "      <td>US</td>\n",
              "      <td>Much like the regular bottling from 2012, this...</td>\n",
              "      <td>Vintner's Reserve Wild Child Block</td>\n",
              "      <td>87</td>\n",
              "      <td>65.0</td>\n",
              "      <td>Oregon</td>\n",
              "      <td>Willamette Valley</td>\n",
              "      <td>Willamette Valley</td>\n",
              "      <td>Paul Gregutt</td>\n",
              "      <td>@paulgwine</td>\n",
              "      <td>Sweet Cheeks 2012 Vintner's Reserve Wild Child...</td>\n",
              "      <td>Pinot Noir</td>\n",
              "      <td>Sweet Cheeks</td>\n",
              "    </tr>\n",
              "    <tr>\n",
              "      <th>5</th>\n",
              "      <td>5</td>\n",
              "      <td>Spain</td>\n",
              "      <td>Blackberry and raspberry aromas show a typical...</td>\n",
              "      <td>Ars In Vitro</td>\n",
              "      <td>87</td>\n",
              "      <td>15.0</td>\n",
              "      <td>Northern Spain</td>\n",
              "      <td>Navarra</td>\n",
              "      <td>NaN</td>\n",
              "      <td>Michael Schachner</td>\n",
              "      <td>@wineschach</td>\n",
              "      <td>Tandem 2011 Ars In Vitro Tempranillo-Merlot (N...</td>\n",
              "      <td>Tempranillo-Merlot</td>\n",
              "      <td>Tandem</td>\n",
              "    </tr>\n",
              "    <tr>\n",
              "      <th>6</th>\n",
              "      <td>6</td>\n",
              "      <td>Italy</td>\n",
              "      <td>Here's a bright, informal red that opens with ...</td>\n",
              "      <td>Belsito</td>\n",
              "      <td>87</td>\n",
              "      <td>16.0</td>\n",
              "      <td>Sicily &amp; Sardinia</td>\n",
              "      <td>Vittoria</td>\n",
              "      <td>NaN</td>\n",
              "      <td>Kerin O’Keefe</td>\n",
              "      <td>@kerinokeefe</td>\n",
              "      <td>Terre di Giurfo 2013 Belsito Frappato (Vittoria)</td>\n",
              "      <td>Frappato</td>\n",
              "      <td>Terre di Giurfo</td>\n",
              "    </tr>\n",
              "    <tr>\n",
              "      <th>7</th>\n",
              "      <td>7</td>\n",
              "      <td>France</td>\n",
              "      <td>This dry and restrained wine offers spice in p...</td>\n",
              "      <td>NaN</td>\n",
              "      <td>87</td>\n",
              "      <td>24.0</td>\n",
              "      <td>Alsace</td>\n",
              "      <td>Alsace</td>\n",
              "      <td>NaN</td>\n",
              "      <td>Roger Voss</td>\n",
              "      <td>@vossroger</td>\n",
              "      <td>Trimbach 2012 Gewurztraminer (Alsace)</td>\n",
              "      <td>Gewürztraminer</td>\n",
              "      <td>Trimbach</td>\n",
              "    </tr>\n",
              "    <tr>\n",
              "      <th>8</th>\n",
              "      <td>8</td>\n",
              "      <td>Germany</td>\n",
              "      <td>Savory dried thyme notes accent sunnier flavor...</td>\n",
              "      <td>Shine</td>\n",
              "      <td>87</td>\n",
              "      <td>12.0</td>\n",
              "      <td>Rheinhessen</td>\n",
              "      <td>NaN</td>\n",
              "      <td>NaN</td>\n",
              "      <td>Anna Lee C. Iijima</td>\n",
              "      <td>NaN</td>\n",
              "      <td>Heinz Eifel 2013 Shine Gewürztraminer (Rheinhe...</td>\n",
              "      <td>Gewürztraminer</td>\n",
              "      <td>Heinz Eifel</td>\n",
              "    </tr>\n",
              "    <tr>\n",
              "      <th>9</th>\n",
              "      <td>9</td>\n",
              "      <td>France</td>\n",
              "      <td>This has great depth of flavor with its fresh ...</td>\n",
              "      <td>Les Natures</td>\n",
              "      <td>87</td>\n",
              "      <td>27.0</td>\n",
              "      <td>Alsace</td>\n",
              "      <td>Alsace</td>\n",
              "      <td>NaN</td>\n",
              "      <td>Roger Voss</td>\n",
              "      <td>@vossroger</td>\n",
              "      <td>Jean-Baptiste Adam 2012 Les Natures Pinot Gris...</td>\n",
              "      <td>Pinot Gris</td>\n",
              "      <td>Jean-Baptiste Adam</td>\n",
              "    </tr>\n",
              "  </tbody>\n",
              "</table>\n",
              "</div>"
            ],
            "text/plain": [
              "   Unnamed: 0   country  ...             variety               winery\n",
              "0           0     Italy  ...         White Blend              Nicosia\n",
              "1           1  Portugal  ...      Portuguese Red  Quinta dos Avidagos\n",
              "2           2        US  ...          Pinot Gris            Rainstorm\n",
              "3           3        US  ...            Riesling           St. Julian\n",
              "4           4        US  ...          Pinot Noir         Sweet Cheeks\n",
              "5           5     Spain  ...  Tempranillo-Merlot               Tandem\n",
              "6           6     Italy  ...            Frappato      Terre di Giurfo\n",
              "7           7    France  ...      Gewürztraminer             Trimbach\n",
              "8           8   Germany  ...      Gewürztraminer          Heinz Eifel\n",
              "9           9    France  ...          Pinot Gris   Jean-Baptiste Adam\n",
              "\n",
              "[10 rows x 14 columns]"
            ]
          },
          "metadata": {
            "tags": []
          },
          "execution_count": 8
        }
      ]
    },
    {
      "cell_type": "code",
      "metadata": {
        "id": "0wFkPe49b0mv",
        "colab_type": "code",
        "colab": {}
      },
      "source": [
        "# Get only the columns we want\n",
        "wine_df = df[['description', 'variety']].copy()"
      ],
      "execution_count": 9,
      "outputs": []
    },
    {
      "cell_type": "code",
      "metadata": {
        "id": "zsgAm-bEb0mz",
        "colab_type": "code",
        "colab": {
          "base_uri": "https://localhost:8080/",
          "height": 399
        },
        "outputId": "e5cb156b-e270-4fc9-d651-cbaa7e30b813"
      },
      "source": [
        "wine_df"
      ],
      "execution_count": 10,
      "outputs": [
        {
          "output_type": "execute_result",
          "data": {
            "text/html": [
              "<div>\n",
              "<style scoped>\n",
              "    .dataframe tbody tr th:only-of-type {\n",
              "        vertical-align: middle;\n",
              "    }\n",
              "\n",
              "    .dataframe tbody tr th {\n",
              "        vertical-align: top;\n",
              "    }\n",
              "\n",
              "    .dataframe thead th {\n",
              "        text-align: right;\n",
              "    }\n",
              "</style>\n",
              "<table border=\"1\" class=\"dataframe\">\n",
              "  <thead>\n",
              "    <tr style=\"text-align: right;\">\n",
              "      <th></th>\n",
              "      <th>description</th>\n",
              "      <th>variety</th>\n",
              "    </tr>\n",
              "  </thead>\n",
              "  <tbody>\n",
              "    <tr>\n",
              "      <th>0</th>\n",
              "      <td>Aromas include tropical fruit, broom, brimston...</td>\n",
              "      <td>White Blend</td>\n",
              "    </tr>\n",
              "    <tr>\n",
              "      <th>1</th>\n",
              "      <td>This is ripe and fruity, a wine that is smooth...</td>\n",
              "      <td>Portuguese Red</td>\n",
              "    </tr>\n",
              "    <tr>\n",
              "      <th>2</th>\n",
              "      <td>Tart and snappy, the flavors of lime flesh and...</td>\n",
              "      <td>Pinot Gris</td>\n",
              "    </tr>\n",
              "    <tr>\n",
              "      <th>3</th>\n",
              "      <td>Pineapple rind, lemon pith and orange blossom ...</td>\n",
              "      <td>Riesling</td>\n",
              "    </tr>\n",
              "    <tr>\n",
              "      <th>4</th>\n",
              "      <td>Much like the regular bottling from 2012, this...</td>\n",
              "      <td>Pinot Noir</td>\n",
              "    </tr>\n",
              "    <tr>\n",
              "      <th>...</th>\n",
              "      <td>...</td>\n",
              "      <td>...</td>\n",
              "    </tr>\n",
              "    <tr>\n",
              "      <th>129966</th>\n",
              "      <td>Notes of honeysuckle and cantaloupe sweeten th...</td>\n",
              "      <td>Riesling</td>\n",
              "    </tr>\n",
              "    <tr>\n",
              "      <th>129967</th>\n",
              "      <td>Citation is given as much as a decade of bottl...</td>\n",
              "      <td>Pinot Noir</td>\n",
              "    </tr>\n",
              "    <tr>\n",
              "      <th>129968</th>\n",
              "      <td>Well-drained gravel soil gives this wine its c...</td>\n",
              "      <td>Gewürztraminer</td>\n",
              "    </tr>\n",
              "    <tr>\n",
              "      <th>129969</th>\n",
              "      <td>A dry style of Pinot Gris, this is crisp with ...</td>\n",
              "      <td>Pinot Gris</td>\n",
              "    </tr>\n",
              "    <tr>\n",
              "      <th>129970</th>\n",
              "      <td>Big, rich and off-dry, this is powered by inte...</td>\n",
              "      <td>Gewürztraminer</td>\n",
              "    </tr>\n",
              "  </tbody>\n",
              "</table>\n",
              "<p>129971 rows × 2 columns</p>\n",
              "</div>"
            ],
            "text/plain": [
              "                                              description         variety\n",
              "0       Aromas include tropical fruit, broom, brimston...     White Blend\n",
              "1       This is ripe and fruity, a wine that is smooth...  Portuguese Red\n",
              "2       Tart and snappy, the flavors of lime flesh and...      Pinot Gris\n",
              "3       Pineapple rind, lemon pith and orange blossom ...        Riesling\n",
              "4       Much like the regular bottling from 2012, this...      Pinot Noir\n",
              "...                                                   ...             ...\n",
              "129966  Notes of honeysuckle and cantaloupe sweeten th...        Riesling\n",
              "129967  Citation is given as much as a decade of bottl...      Pinot Noir\n",
              "129968  Well-drained gravel soil gives this wine its c...  Gewürztraminer\n",
              "129969  A dry style of Pinot Gris, this is crisp with ...      Pinot Gris\n",
              "129970  Big, rich and off-dry, this is powered by inte...  Gewürztraminer\n",
              "\n",
              "[129971 rows x 2 columns]"
            ]
          },
          "metadata": {
            "tags": []
          },
          "execution_count": 10
        }
      ]
    },
    {
      "cell_type": "code",
      "metadata": {
        "id": "g9UInZWLb0m6",
        "colab_type": "code",
        "colab": {
          "base_uri": "https://localhost:8080/",
          "height": 124
        },
        "outputId": "f72f9ebc-538d-4964-8f23-ecfa0055afb1"
      },
      "source": [
        "wine_df['variety'].value_counts()[:5]"
      ],
      "execution_count": 11,
      "outputs": [
        {
          "output_type": "execute_result",
          "data": {
            "text/plain": [
              "Pinot Noir                  13272\n",
              "Chardonnay                  11753\n",
              "Cabernet Sauvignon           9472\n",
              "Red Blend                    8946\n",
              "Bordeaux-style Red Blend     6915\n",
              "Name: variety, dtype: int64"
            ]
          },
          "metadata": {
            "tags": []
          },
          "execution_count": 11
        }
      ]
    },
    {
      "cell_type": "code",
      "metadata": {
        "id": "jbs6nCKlb0nB",
        "colab_type": "code",
        "colab": {}
      },
      "source": [
        "topVarieties = wine_df['variety'].value_counts()[:5].index.tolist()"
      ],
      "execution_count": 12,
      "outputs": []
    },
    {
      "cell_type": "code",
      "metadata": {
        "id": "gEERywKRb0nJ",
        "colab_type": "code",
        "colab": {}
      },
      "source": [
        "wine_df_short = wine_df[wine_df.variety.isin(topVarieties)].copy()"
      ],
      "execution_count": 13,
      "outputs": []
    },
    {
      "cell_type": "code",
      "metadata": {
        "id": "1acqw3crb0nO",
        "colab_type": "code",
        "colab": {
          "base_uri": "https://localhost:8080/",
          "height": 399
        },
        "outputId": "e09c69ad-b8a6-4e94-fe2d-923cf61d5cde"
      },
      "source": [
        "wine_df_short"
      ],
      "execution_count": 14,
      "outputs": [
        {
          "output_type": "execute_result",
          "data": {
            "text/html": [
              "<div>\n",
              "<style scoped>\n",
              "    .dataframe tbody tr th:only-of-type {\n",
              "        vertical-align: middle;\n",
              "    }\n",
              "\n",
              "    .dataframe tbody tr th {\n",
              "        vertical-align: top;\n",
              "    }\n",
              "\n",
              "    .dataframe thead th {\n",
              "        text-align: right;\n",
              "    }\n",
              "</style>\n",
              "<table border=\"1\" class=\"dataframe\">\n",
              "  <thead>\n",
              "    <tr style=\"text-align: right;\">\n",
              "      <th></th>\n",
              "      <th>description</th>\n",
              "      <th>variety</th>\n",
              "    </tr>\n",
              "  </thead>\n",
              "  <tbody>\n",
              "    <tr>\n",
              "      <th>4</th>\n",
              "      <td>Much like the regular bottling from 2012, this...</td>\n",
              "      <td>Pinot Noir</td>\n",
              "    </tr>\n",
              "    <tr>\n",
              "      <th>10</th>\n",
              "      <td>Soft, supple plum envelopes an oaky structure ...</td>\n",
              "      <td>Cabernet Sauvignon</td>\n",
              "    </tr>\n",
              "    <tr>\n",
              "      <th>12</th>\n",
              "      <td>Slightly reduced, this wine offers a chalky, t...</td>\n",
              "      <td>Cabernet Sauvignon</td>\n",
              "    </tr>\n",
              "    <tr>\n",
              "      <th>14</th>\n",
              "      <td>Building on 150 years and six generations of w...</td>\n",
              "      <td>Chardonnay</td>\n",
              "    </tr>\n",
              "    <tr>\n",
              "      <th>20</th>\n",
              "      <td>Ripe aromas of dark berries mingle with ample ...</td>\n",
              "      <td>Red Blend</td>\n",
              "    </tr>\n",
              "    <tr>\n",
              "      <th>...</th>\n",
              "      <td>...</td>\n",
              "      <td>...</td>\n",
              "    </tr>\n",
              "    <tr>\n",
              "      <th>129956</th>\n",
              "      <td>The blend is 44% Merlot, 33% Cabernet Sauvigno...</td>\n",
              "      <td>Bordeaux-style Red Blend</td>\n",
              "    </tr>\n",
              "    <tr>\n",
              "      <th>129958</th>\n",
              "      <td>This blend of Cabernet Sauvignon-Merlot and Ca...</td>\n",
              "      <td>Bordeaux-style Red Blend</td>\n",
              "    </tr>\n",
              "    <tr>\n",
              "      <th>129960</th>\n",
              "      <td>Fresh and fruity, this is full of red cherry f...</td>\n",
              "      <td>Pinot Noir</td>\n",
              "    </tr>\n",
              "    <tr>\n",
              "      <th>129963</th>\n",
              "      <td>A bouquet of black cherry, tart cranberry and ...</td>\n",
              "      <td>Cabernet Sauvignon</td>\n",
              "    </tr>\n",
              "    <tr>\n",
              "      <th>129967</th>\n",
              "      <td>Citation is given as much as a decade of bottl...</td>\n",
              "      <td>Pinot Noir</td>\n",
              "    </tr>\n",
              "  </tbody>\n",
              "</table>\n",
              "<p>50358 rows × 2 columns</p>\n",
              "</div>"
            ],
            "text/plain": [
              "                                              description                   variety\n",
              "4       Much like the regular bottling from 2012, this...                Pinot Noir\n",
              "10      Soft, supple plum envelopes an oaky structure ...        Cabernet Sauvignon\n",
              "12      Slightly reduced, this wine offers a chalky, t...        Cabernet Sauvignon\n",
              "14      Building on 150 years and six generations of w...                Chardonnay\n",
              "20      Ripe aromas of dark berries mingle with ample ...                 Red Blend\n",
              "...                                                   ...                       ...\n",
              "129956  The blend is 44% Merlot, 33% Cabernet Sauvigno...  Bordeaux-style Red Blend\n",
              "129958  This blend of Cabernet Sauvignon-Merlot and Ca...  Bordeaux-style Red Blend\n",
              "129960  Fresh and fruity, this is full of red cherry f...                Pinot Noir\n",
              "129963  A bouquet of black cherry, tart cranberry and ...        Cabernet Sauvignon\n",
              "129967  Citation is given as much as a decade of bottl...                Pinot Noir\n",
              "\n",
              "[50358 rows x 2 columns]"
            ]
          },
          "metadata": {
            "tags": []
          },
          "execution_count": 14
        }
      ]
    },
    {
      "cell_type": "code",
      "metadata": {
        "id": "8XgmNcpsb0nS",
        "colab_type": "code",
        "colab": {}
      },
      "source": [
        "wine_df_short['variety_num'] = wine_df_short['variety'].astype('category').cat.codes"
      ],
      "execution_count": 15,
      "outputs": []
    },
    {
      "cell_type": "code",
      "metadata": {
        "id": "pFU2CyGbb0nW",
        "colab_type": "code",
        "colab": {
          "base_uri": "https://localhost:8080/",
          "height": 399
        },
        "outputId": "adcca0f0-7fb4-4a6c-81c8-2ae3f8c4bfad"
      },
      "source": [
        "wine_df_short"
      ],
      "execution_count": 16,
      "outputs": [
        {
          "output_type": "execute_result",
          "data": {
            "text/html": [
              "<div>\n",
              "<style scoped>\n",
              "    .dataframe tbody tr th:only-of-type {\n",
              "        vertical-align: middle;\n",
              "    }\n",
              "\n",
              "    .dataframe tbody tr th {\n",
              "        vertical-align: top;\n",
              "    }\n",
              "\n",
              "    .dataframe thead th {\n",
              "        text-align: right;\n",
              "    }\n",
              "</style>\n",
              "<table border=\"1\" class=\"dataframe\">\n",
              "  <thead>\n",
              "    <tr style=\"text-align: right;\">\n",
              "      <th></th>\n",
              "      <th>description</th>\n",
              "      <th>variety</th>\n",
              "      <th>variety_num</th>\n",
              "    </tr>\n",
              "  </thead>\n",
              "  <tbody>\n",
              "    <tr>\n",
              "      <th>4</th>\n",
              "      <td>Much like the regular bottling from 2012, this...</td>\n",
              "      <td>Pinot Noir</td>\n",
              "      <td>3</td>\n",
              "    </tr>\n",
              "    <tr>\n",
              "      <th>10</th>\n",
              "      <td>Soft, supple plum envelopes an oaky structure ...</td>\n",
              "      <td>Cabernet Sauvignon</td>\n",
              "      <td>1</td>\n",
              "    </tr>\n",
              "    <tr>\n",
              "      <th>12</th>\n",
              "      <td>Slightly reduced, this wine offers a chalky, t...</td>\n",
              "      <td>Cabernet Sauvignon</td>\n",
              "      <td>1</td>\n",
              "    </tr>\n",
              "    <tr>\n",
              "      <th>14</th>\n",
              "      <td>Building on 150 years and six generations of w...</td>\n",
              "      <td>Chardonnay</td>\n",
              "      <td>2</td>\n",
              "    </tr>\n",
              "    <tr>\n",
              "      <th>20</th>\n",
              "      <td>Ripe aromas of dark berries mingle with ample ...</td>\n",
              "      <td>Red Blend</td>\n",
              "      <td>4</td>\n",
              "    </tr>\n",
              "    <tr>\n",
              "      <th>...</th>\n",
              "      <td>...</td>\n",
              "      <td>...</td>\n",
              "      <td>...</td>\n",
              "    </tr>\n",
              "    <tr>\n",
              "      <th>129956</th>\n",
              "      <td>The blend is 44% Merlot, 33% Cabernet Sauvigno...</td>\n",
              "      <td>Bordeaux-style Red Blend</td>\n",
              "      <td>0</td>\n",
              "    </tr>\n",
              "    <tr>\n",
              "      <th>129958</th>\n",
              "      <td>This blend of Cabernet Sauvignon-Merlot and Ca...</td>\n",
              "      <td>Bordeaux-style Red Blend</td>\n",
              "      <td>0</td>\n",
              "    </tr>\n",
              "    <tr>\n",
              "      <th>129960</th>\n",
              "      <td>Fresh and fruity, this is full of red cherry f...</td>\n",
              "      <td>Pinot Noir</td>\n",
              "      <td>3</td>\n",
              "    </tr>\n",
              "    <tr>\n",
              "      <th>129963</th>\n",
              "      <td>A bouquet of black cherry, tart cranberry and ...</td>\n",
              "      <td>Cabernet Sauvignon</td>\n",
              "      <td>1</td>\n",
              "    </tr>\n",
              "    <tr>\n",
              "      <th>129967</th>\n",
              "      <td>Citation is given as much as a decade of bottl...</td>\n",
              "      <td>Pinot Noir</td>\n",
              "      <td>3</td>\n",
              "    </tr>\n",
              "  </tbody>\n",
              "</table>\n",
              "<p>50358 rows × 3 columns</p>\n",
              "</div>"
            ],
            "text/plain": [
              "                                              description  ... variety_num\n",
              "4       Much like the regular bottling from 2012, this...  ...           3\n",
              "10      Soft, supple plum envelopes an oaky structure ...  ...           1\n",
              "12      Slightly reduced, this wine offers a chalky, t...  ...           1\n",
              "14      Building on 150 years and six generations of w...  ...           2\n",
              "20      Ripe aromas of dark berries mingle with ample ...  ...           4\n",
              "...                                                   ...  ...         ...\n",
              "129956  The blend is 44% Merlot, 33% Cabernet Sauvigno...  ...           0\n",
              "129958  This blend of Cabernet Sauvignon-Merlot and Ca...  ...           0\n",
              "129960  Fresh and fruity, this is full of red cherry f...  ...           3\n",
              "129963  A bouquet of black cherry, tart cranberry and ...  ...           1\n",
              "129967  Citation is given as much as a decade of bottl...  ...           3\n",
              "\n",
              "[50358 rows x 3 columns]"
            ]
          },
          "metadata": {
            "tags": []
          },
          "execution_count": 16
        }
      ]
    },
    {
      "cell_type": "code",
      "metadata": {
        "id": "VOpWrNk_b0nZ",
        "colab_type": "code",
        "colab": {}
      },
      "source": [
        "# Split our data into training and test sets (80/20)\n",
        "train_df, test_df = train_test_split(wine_df_short, test_size=0.2)"
      ],
      "execution_count": 17,
      "outputs": []
    },
    {
      "cell_type": "code",
      "metadata": {
        "id": "w27v8yzTb0nf",
        "colab_type": "code",
        "colab": {
          "base_uri": "https://localhost:8080/",
          "height": 70
        },
        "outputId": "37df4848-e6f2-4b3f-da39-af2154d8d689"
      },
      "source": [
        "import string\n",
        "import nltk\n",
        "from nltk.corpus import stopwords\n",
        "nltk.download('stopwords')\n",
        "stops = stopwords.words('english')\n",
        "for i in topVarieties:\n",
        "  stops.extend(i.lower().split(' '))\n",
        "print(stops[-15:])\n"
      ],
      "execution_count": 18,
      "outputs": [
        {
          "output_type": "stream",
          "text": [
            "[nltk_data] Downloading package stopwords to /root/nltk_data...\n",
            "[nltk_data]   Unzipping corpora/stopwords.zip.\n",
            "[\"weren't\", 'won', \"won't\", 'wouldn', \"wouldn't\", 'pinot', 'noir', 'chardonnay', 'cabernet', 'sauvignon', 'red', 'blend', 'bordeaux-style', 'red', 'blend']\n"
          ],
          "name": "stdout"
        }
      ]
    },
    {
      "cell_type": "code",
      "metadata": {
        "id": "zvqoXK2fb0ni",
        "colab_type": "code",
        "colab": {}
      },
      "source": [
        "def cleanText(text):\n",
        "    # Remove new lines from the text\n",
        "    text = text.replace(\"\\n\", \" \")\n",
        "    text = text.lower()\n",
        "    text = text.split(' ')\n",
        "    text = [w for w in text if not w in stops] \n",
        "    text = ' '.join(text)\n",
        "    text = text.translate(str.maketrans('', '', string.punctuation))\n",
        "    text = ''.join([i for i in text if not i.isdigit()])\n",
        "    return text"
      ],
      "execution_count": 19,
      "outputs": []
    },
    {
      "cell_type": "code",
      "metadata": {
        "id": "K3RZou-Sb0nm",
        "colab_type": "code",
        "colab": {
          "base_uri": "https://localhost:8080/",
          "height": 230
        },
        "outputId": "edc0b269-9ea8-4d98-e343-55546790d0e6"
      },
      "source": [
        "train_df['description'] = train_df['description'].apply(lambda x : cleanText(x))\n",
        "test_df['description'] = test_df['description'].apply(lambda x : cleanText(x))"
      ],
      "execution_count": 20,
      "outputs": [
        {
          "output_type": "stream",
          "text": [
            "/usr/local/lib/python3.6/dist-packages/ipykernel_launcher.py:1: SettingWithCopyWarning: \n",
            "A value is trying to be set on a copy of a slice from a DataFrame.\n",
            "Try using .loc[row_indexer,col_indexer] = value instead\n",
            "\n",
            "See the caveats in the documentation: https://pandas.pydata.org/pandas-docs/stable/user_guide/indexing.html#returning-a-view-versus-a-copy\n",
            "  \"\"\"Entry point for launching an IPython kernel.\n",
            "/usr/local/lib/python3.6/dist-packages/ipykernel_launcher.py:2: SettingWithCopyWarning: \n",
            "A value is trying to be set on a copy of a slice from a DataFrame.\n",
            "Try using .loc[row_indexer,col_indexer] = value instead\n",
            "\n",
            "See the caveats in the documentation: https://pandas.pydata.org/pandas-docs/stable/user_guide/indexing.html#returning-a-view-versus-a-copy\n",
            "  \n"
          ],
          "name": "stderr"
        }
      ]
    },
    {
      "cell_type": "code",
      "metadata": {
        "id": "TqW9hU61b0nq",
        "colab_type": "code",
        "colab": {
          "base_uri": "https://localhost:8080/",
          "height": 399
        },
        "outputId": "baa27ca5-54fe-4471-bf9c-edbb4c073c61"
      },
      "source": [
        "train_df"
      ],
      "execution_count": 21,
      "outputs": [
        {
          "output_type": "execute_result",
          "data": {
            "text/html": [
              "<div>\n",
              "<style scoped>\n",
              "    .dataframe tbody tr th:only-of-type {\n",
              "        vertical-align: middle;\n",
              "    }\n",
              "\n",
              "    .dataframe tbody tr th {\n",
              "        vertical-align: top;\n",
              "    }\n",
              "\n",
              "    .dataframe thead th {\n",
              "        text-align: right;\n",
              "    }\n",
              "</style>\n",
              "<table border=\"1\" class=\"dataframe\">\n",
              "  <thead>\n",
              "    <tr style=\"text-align: right;\">\n",
              "      <th></th>\n",
              "      <th>description</th>\n",
              "      <th>variety</th>\n",
              "      <th>variety_num</th>\n",
              "    </tr>\n",
              "  </thead>\n",
              "  <tbody>\n",
              "    <tr>\n",
              "      <th>70904</th>\n",
              "      <td>shows ripe fruit bright acidity famous vineyar...</td>\n",
              "      <td>Pinot Noir</td>\n",
              "      <td>3</td>\n",
              "    </tr>\n",
              "    <tr>\n",
              "      <th>51848</th>\n",
              "      <td>made  sauvignon  merlot  alicante  sangiovese ...</td>\n",
              "      <td>Red Blend</td>\n",
              "      <td>4</td>\n",
              "    </tr>\n",
              "    <tr>\n",
              "      <th>118903</th>\n",
              "      <td>offbeat white varieties simple fruity tart win...</td>\n",
              "      <td>Red Blend</td>\n",
              "      <td>4</td>\n",
              "    </tr>\n",
              "    <tr>\n",
              "      <th>107898</th>\n",
              "      <td>wine seems ripe fruit rich opulent weight jam...</td>\n",
              "      <td>Bordeaux-style Red Blend</td>\n",
              "      <td>0</td>\n",
              "    </tr>\n",
              "    <tr>\n",
              "      <th>71850</th>\n",
              "      <td>– barrel sample wine dark extracted tannins de...</td>\n",
              "      <td>Bordeaux-style Red Blend</td>\n",
              "      <td>0</td>\n",
              "    </tr>\n",
              "    <tr>\n",
              "      <th>...</th>\n",
              "      <td>...</td>\n",
              "      <td>...</td>\n",
              "      <td>...</td>\n",
              "    </tr>\n",
              "    <tr>\n",
              "      <th>27668</th>\n",
              "      <td>intended commemorative wine celebrate estates ...</td>\n",
              "      <td>Red Blend</td>\n",
              "      <td>4</td>\n",
              "    </tr>\n",
              "    <tr>\n",
              "      <th>85188</th>\n",
              "      <td>succulent cherry cassis wine surprising level ...</td>\n",
              "      <td>Cabernet Sauvignon</td>\n",
              "      <td>1</td>\n",
              "    </tr>\n",
              "    <tr>\n",
              "      <th>125724</th>\n",
              "      <td>ripe blackberry cassis graphite pencil wood ar...</td>\n",
              "      <td>Red Blend</td>\n",
              "      <td>4</td>\n",
              "    </tr>\n",
              "    <tr>\n",
              "      <th>123285</th>\n",
              "      <td>taut young laced accents bitter greens fruit p...</td>\n",
              "      <td>Pinot Noir</td>\n",
              "      <td>3</td>\n",
              "    </tr>\n",
              "    <tr>\n",
              "      <th>11449</th>\n",
              "      <td>deep color overly effusive aroma nevertheless ...</td>\n",
              "      <td>Pinot Noir</td>\n",
              "      <td>3</td>\n",
              "    </tr>\n",
              "  </tbody>\n",
              "</table>\n",
              "<p>40286 rows × 3 columns</p>\n",
              "</div>"
            ],
            "text/plain": [
              "                                              description  ... variety_num\n",
              "70904   shows ripe fruit bright acidity famous vineyar...  ...           3\n",
              "51848   made  sauvignon  merlot  alicante  sangiovese ...  ...           4\n",
              "118903  offbeat white varieties simple fruity tart win...  ...           4\n",
              "107898   wine seems ripe fruit rich opulent weight jam...  ...           0\n",
              "71850   – barrel sample wine dark extracted tannins de...  ...           0\n",
              "...                                                   ...  ...         ...\n",
              "27668   intended commemorative wine celebrate estates ...  ...           4\n",
              "85188   succulent cherry cassis wine surprising level ...  ...           1\n",
              "125724  ripe blackberry cassis graphite pencil wood ar...  ...           4\n",
              "123285  taut young laced accents bitter greens fruit p...  ...           3\n",
              "11449   deep color overly effusive aroma nevertheless ...  ...           3\n",
              "\n",
              "[40286 rows x 3 columns]"
            ]
          },
          "metadata": {
            "tags": []
          },
          "execution_count": 21
        }
      ]
    },
    {
      "cell_type": "code",
      "metadata": {
        "id": "pB2PTVXWb0nu",
        "colab_type": "code",
        "colab": {}
      },
      "source": [
        "X_train = train_df['description']\n",
        "y_train = train_df['variety_num']\n",
        "X_test = test_df['description']\n",
        "y_test = test_df['variety_num']"
      ],
      "execution_count": 22,
      "outputs": []
    },
    {
      "cell_type": "code",
      "metadata": {
        "id": "EgYR8ZUrb0ny",
        "colab_type": "code",
        "colab": {}
      },
      "source": [
        "vocab_size = 20000\n",
        "max_seq_length = 400"
      ],
      "execution_count": 23,
      "outputs": []
    },
    {
      "cell_type": "code",
      "metadata": {
        "id": "tp_j2apmV4s2",
        "colab_type": "code",
        "colab": {}
      },
      "source": [
        "# TfidfVectorizer converts text to a matrix of TF-IDF features\n",
        "from sklearn.feature_extraction.text import TfidfVectorizer\n",
        "\n",
        "vect = TfidfVectorizer()"
      ],
      "execution_count": 24,
      "outputs": []
    },
    {
      "cell_type": "code",
      "metadata": {
        "id": "2v7BK1RKWVML",
        "colab_type": "code",
        "colab": {
          "base_uri": "https://localhost:8080/",
          "height": 36
        },
        "outputId": "57e4906d-b8f1-4069-c20e-762f57fe4343"
      },
      "source": [
        "''' \n",
        "TO DO: Define our X and y from the training set\n",
        "(Re)load the (cleaned) training and test datasets as X_train, y_train, X_test, y_test\n",
        "'''\n",
        "# TO DO: Load our pre-processed data into a dataframe\n",
        "#X_train, X_test, y_train, y_test = train_test_split(X, y, test_size=0.20)"
      ],
      "execution_count": 25,
      "outputs": [
        {
          "output_type": "execute_result",
          "data": {
            "application/vnd.google.colaboratory.intrinsic+json": {
              "type": "string"
            },
            "text/plain": [
              "' \\nTO DO: Define our X and y from the training set\\n(Re)load the (cleaned) training and test datasets as X_train, y_train, X_test, y_test\\n'"
            ]
          },
          "metadata": {
            "tags": []
          },
          "execution_count": 25
        }
      ]
    },
    {
      "cell_type": "code",
      "metadata": {
        "id": "MdJ-QT9QQDiq",
        "colab_type": "code",
        "colab": {}
      },
      "source": [
        "X_train_vect = vect.fit_transform(X_train)\n",
        "X_test_vect = vect.transform(X_test)"
      ],
      "execution_count": 26,
      "outputs": []
    },
    {
      "cell_type": "code",
      "metadata": {
        "id": "o3RfFrgPWqVf",
        "colab_type": "code",
        "colab": {}
      },
      "source": [
        "# Import classifiers from Scikit-learn\n",
        "from sklearn.naive_bayes import MultinomialNB\n",
        "from sklearn.svm import LinearSVC\n",
        "from sklearn.ensemble import RandomForestClassifier"
      ],
      "execution_count": 27,
      "outputs": []
    },
    {
      "cell_type": "code",
      "metadata": {
        "id": "WhzkpKChAMOF",
        "colab_type": "code",
        "colab": {}
      },
      "source": [
        "'''\n",
        "TO DO: Define a list of models that we will be comparing. Choose from the ones\n",
        "that were imported from above.\n",
        "'''\n",
        "NB = MultinomialNB()\n",
        "SVC = LinearSVC()\n",
        "RFC = RandomForestClassifier(max_depth=10)\n",
        "models = [NB, SVC, RFC]"
      ],
      "execution_count": 28,
      "outputs": []
    },
    {
      "cell_type": "code",
      "metadata": {
        "id": "gy9mrUqUAS7o",
        "colab_type": "code",
        "colab": {}
      },
      "source": [
        "# Create a dictionary for storing the results of each run for each model\n",
        "results = {}\n",
        "\n",
        "# For each model, create a dictionary within results that stores the accuracy,\n",
        "# f1 score and confusion matrix values\n",
        "for model in models:\n",
        "    results[model.__class__.__name__] = {'accuracy': [], \n",
        "                                       'f1_score': [], \n",
        "                                       'confusion_matrix': []}"
      ],
      "execution_count": 29,
      "outputs": []
    },
    {
      "cell_type": "code",
      "metadata": {
        "id": "RSlfIBh9XEXE",
        "colab_type": "code",
        "colab": {}
      },
      "source": [
        "from sklearn.metrics import accuracy_score, f1_score, confusion_matrix"
      ],
      "execution_count": 30,
      "outputs": []
    },
    {
      "cell_type": "code",
      "metadata": {
        "id": "nRqm0-EzApSR",
        "colab_type": "code",
        "colab": {
          "base_uri": "https://localhost:8080/",
          "height": 70
        },
        "outputId": "cc19c6a4-3063-4a46-9cc3-310f61120e02"
      },
      "source": [
        "for model in models:\n",
        "    '''\n",
        "    TO DO: For each model in our models list, we want to:\n",
        "\n",
        "    1. Fit the model on X_train_vect and y_train\n",
        "\n",
        "    2. Generate y_pred by calling model.predict\n",
        "    '''\n",
        "    model.fit(X_train_vect, y_train)\n",
        "    y_pred = model.predict(X_test_vect)\n",
        "    '''\n",
        "    TO DO: Compute the following so we can add it to our results:\n",
        "    acc - accuracy score\n",
        "    f1  - f1 score\n",
        "    cm - confusion matrix\n",
        "    '''\n",
        "    acc = accuracy_score(y_test, y_pred)\n",
        "    f1 = f1_score(y_test, y_pred, average='weighted')\n",
        "    cm = confusion_matrix(y_test, y_pred)\n",
        "    print(\"done\")\n",
        "    results[model.__class__.__name__]['accuracy'] = acc\n",
        "    results[model.__class__.__name__]['f1_score'] = f1\n",
        "    results[model.__class__.__name__]['confusion_matrix'] = cm"
      ],
      "execution_count": 31,
      "outputs": [
        {
          "output_type": "stream",
          "text": [
            "done\n",
            "done\n",
            "done\n"
          ],
          "name": "stdout"
        }
      ]
    },
    {
      "cell_type": "code",
      "metadata": {
        "id": "PTI8o3dJUEfE",
        "colab_type": "code",
        "colab": {
          "base_uri": "https://localhost:8080/",
          "height": 1000
        },
        "outputId": "9ca6ef61-8692-4a8a-84a3-665533a60d98"
      },
      "source": [
        "'''\n",
        "TO DO: Display the results by printing out the accuracy, F1 score and confusion\n",
        "matrix for each of the models.\n",
        "'''\n",
        "for model in results:\n",
        "  print(results[model])\n",
        "  cm = results[model]['confusion_matrix']\n",
        "  fig = sns.heatmap(cm, annot=True, fmt=\"d\")\n",
        "  plt.title(model)\n",
        "  plt.xlabel(\"Predicted Label\")\n",
        "  plt.ylabel(\"Actual Label\")\n",
        "  plt.show(fig)"
      ],
      "execution_count": 34,
      "outputs": [
        {
          "output_type": "stream",
          "text": [
            "{'accuracy': 0.789614773629865, 'f1_score': 0.7875431204019816, 'confusion_matrix': array([[ 845,  203,   16,  126,  142],\n",
            "       [  14, 1264,    5,  475,  186],\n",
            "       [  15,    7, 2267,   67,    4],\n",
            "       [ 202,   80,   67, 2277,   21],\n",
            "       [  41,  249,    8,  191, 1300]])}\n"
          ],
          "name": "stdout"
        },
        {
          "output_type": "display_data",
          "data": {
            "image/png": "[encoded data removed]",
            "text/plain": [
              "<Figure size 432x288 with 2 Axes>"
            ]
          },
          "metadata": {
            "tags": []
          }
        },
        {
          "output_type": "stream",
          "text": [
            "{'accuracy': 0.8548451151707704, 'f1_score': 0.8545705103743204, 'confusion_matrix': array([[1096,  104,   11,   67,   54],\n",
            "       [  70, 1518,   10,  211,  135],\n",
            "       [   6,   13, 2306,   30,    5],\n",
            "       [ 124,  136,   54, 2287,   46],\n",
            "       [  88,  187,   10,  101, 1403]])}\n"
          ],
          "name": "stdout"
        },
        {
          "output_type": "display_data",
          "data": {
            "image/png": "[encoded data removed]",
            "text/plain": [
              "<Figure size 432x288 with 2 Axes>"
            ]
          },
          "metadata": {
            "tags": []
          }
        },
        {
          "output_type": "stream",
          "text": [
            "{'accuracy': 0.6147736298649722, 'f1_score': 0.5806315486330961, 'confusion_matrix': array([[ 187,   69,   16,  957,  103],\n",
            "       [   2,  505,   12, 1373,   52],\n",
            "       [   0,    0, 2207,  153,    0],\n",
            "       [  14,    6,   62, 2563,    2],\n",
            "       [   5,   95,   21,  938,  730]])}\n"
          ],
          "name": "stdout"
        },
        {
          "output_type": "display_data",
          "data": {
            "image/png": "[encoded data removed]",
            "text/plain": [
              "<Figure size 432x288 with 2 Axes>"
            ]
          },
          "metadata": {
            "tags": []
          }
        }
      ]
    },
    {
      "cell_type": "code",
      "metadata": {
        "id": "MTfGENsJjZqA",
        "colab_type": "code",
        "colab": {}
      },
      "source": [
        "model = tf.keras.models.load_model('wine_cnn_5_wines.h5')"
      ],
      "execution_count": 47,
      "outputs": []
    },
    {
      "cell_type": "code",
      "metadata": {
        "id": "3ForxpYznVOD",
        "colab_type": "code",
        "colab": {}
      },
      "source": [
        "# loading\n",
        "with open('wine_tokenizer.pkl', 'rb') as handle:\n",
        "    X_tokenizer = pickle.load(handle)"
      ],
      "execution_count": 40,
      "outputs": []
    },
    {
      "cell_type": "code",
      "metadata": {
        "id": "s-anbQ4AofaI",
        "colab_type": "code",
        "colab": {}
      },
      "source": [
        "wineNames = {0: 'Bordeaux-style Red Blend',\n",
        " 1: 'Cabernet Sauvignon',\n",
        " 2: 'Chardonnay',\n",
        " 3: 'Pinot Noir',\n",
        " 4: 'Red Blend'}"
      ],
      "execution_count": 42,
      "outputs": []
    },
    {
      "cell_type": "code",
      "metadata": {
        "id": "gbTYj4L2n47Y",
        "colab_type": "code",
        "colab": {
          "base_uri": "https://localhost:8080/",
          "height": 390
        },
        "outputId": "1022b62f-aa90-47cf-fe3d-aaaff7db59ce"
      },
      "source": [
        "wineReview = input(\"Enter a description of what you want your wine to taste like: \")\n",
        "while(wineReview != 'exit'):\n",
        "  wineReview = cleanText(wineReview)\n",
        "  wine_tokenized = X_tokenizer.texts_to_sequences([wineReview])\n",
        "  wine_padded = sequence.pad_sequences(wine_tokenized[0:1], maxlen=max_seq_length)\n",
        "  predictedWine = np.argmax(model.predict(wine_padded), axis=-1)\n",
        "  print(\"Neural Network: \" + wineNames[int(predictedWine)])\n",
        "  wineVect = vect.transform([wineReview])\n",
        "  for modelA in models:\n",
        "    print(str(modelA.__class__.__name__) + \": \" + wineNames[int(modelA.predict(wineVect))])\n",
        "  wineReview = input(\"Enter a description of what you want your wine to taste like: \")"
      ],
      "execution_count": 54,
      "outputs": [
        {
          "output_type": "stream",
          "text": [
            "Enter a description of what you want your wine to taste like: grapes\n",
            "Neural Network: Red Blend\n",
            "MultinomialNB: Red Blend\n",
            "LinearSVC: Red Blend\n",
            "RandomForestClassifier: Pinot Noir\n",
            "Enter a description of what you want your wine to taste like: pineapple\n",
            "Neural Network: Chardonnay\n",
            "MultinomialNB: Chardonnay\n",
            "LinearSVC: Chardonnay\n",
            "RandomForestClassifier: Chardonnay\n",
            "Enter a description of what you want your wine to taste like: spicy apples\n",
            "Neural Network: Chardonnay\n",
            "MultinomialNB: Chardonnay\n",
            "LinearSVC: Chardonnay\n",
            "RandomForestClassifier: Chardonnay\n",
            "Enter a description of what you want your wine to taste like: deep thick\n",
            "Neural Network: Chardonnay\n",
            "MultinomialNB: Cabernet Sauvignon\n",
            "LinearSVC: Chardonnay\n",
            "RandomForestClassifier: Pinot Noir\n",
            "Enter a description of what you want your wine to taste like: exit\n"
          ],
          "name": "stdout"
        }
      ]
    }
  ]
}